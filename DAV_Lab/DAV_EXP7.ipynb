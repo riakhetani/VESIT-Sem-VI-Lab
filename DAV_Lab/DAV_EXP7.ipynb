{
  "cells": [
    {
      "cell_type": "markdown",
      "metadata": {
        "id": "6-jAhpp1f-Hv"
      },
      "source": [
        "# Data Analytics Visualization Experiment 7\n",
        "---\n",
        "**RIA** **KHETANI**\n",
        "\n",
        "**D11AD_34**\n",
        "\n",
        "**AIM**: Perform the steps involved in Text Analytics in Python & R.\n",
        "\n",
        "**OBJECTIVE**: Design Text Analytics Application on a given data set.\n",
        "\n",
        "# Tasks to be performed\n",
        "---\n",
        "1. Explore Top-5 Text Analytics Libraries in Python (w.r.t Features & Applications)\n",
        "\n",
        "2. Explore Top-5 Text Analytics Libraries in R (w.r.t Features & Applications)\n",
        "\n",
        "3. Perform the following experiments using Python & R\n",
        "\n",
        "* Tokenization (Sentence & Word)\n",
        "* Frequency Distribution\n",
        "* Remove stopwords & punctuations\n",
        "* Lexicon Normalization (Stemming, Lemmatization)\n",
        "* Part of Speech tagging\n",
        "* Named Entity Recognization\n",
        "* Scrape data from a website\n"
      ]
    },
    {
      "cell_type": "markdown",
      "metadata": {
        "id": "aKQmLycph4PY"
      },
      "source": [
        "**1.Top 5 Text Analytics Libraries in Python**\n",
        "\n",
        "---"
      ]
    },
    {
      "cell_type": "markdown",
      "metadata": {
        "id": "C_d33TiFiUs6"
      },
      "source": [
        "**NLTK (Natural Language Toolkit):**\n",
        "\n",
        "> NLTK is a comprehensive library for natural language processing (NLP) in Python.\n",
        "It provides tools for tokenization, stemming, tagging, parsing, and semantic reasoning. NLTK also includes a variety of corpora and lexical resources for training and testing NLP models.\n",
        "Widely used for tasks such as sentiment analysis, named entity recognition, text classification, and more.\n",
        "\n",
        "**Scattertext:**\n",
        "\n",
        ">Scattertext is a Python library for visualizing differences between text corpora.\n",
        "It allows for the comparison of word frequencies and significance between categories in a visually appealing manner.\n",
        "Scattertext is particularly useful for exploring linguistic variation and understanding how language is used differently across categories.\n",
        "Commonly used in applications such as analyzing political speeches, product reviews, and social media discussions.\n",
        "\n",
        "**spaCy:**\n",
        "\n",
        ">spaCy is a modern and efficient library for NLP in Python designed for production use.\n",
        "It offers pre-trained models for various languages and tasks, including named entity recognition, part-of-speech tagging, and dependency parsing.\n",
        "spaCy's processing pipeline is highly optimized for speed and efficiency.\n",
        "It provides easy integration with deep learning frameworks like TensorFlow and PyTorch.\n",
        "Widely used for tasks such as information extraction, text summarization, and entity linking.\n",
        "\n",
        "**TextBlob:**\n",
        "\n",
        ">TextBlob is a simple and intuitive library for text processing and sentiment analysis in Python.\n",
        "It provides an easy-to-use API for common NLP tasks such as part-of-speech tagging, noun phrase extraction, and sentiment analysis.\n",
        "TextBlob includes built-in sentiment analysis models trained on large datasets.\n",
        "It supports multiple languages and can be extended with custom models and corpora.\n",
        "Commonly used for tasks such as social media sentiment analysis, opinion mining, and text classification.\n",
        "\n",
        "**scikit-learn:**\n",
        "\n",
        ">scikit-learn is a widely-used machine learning library in Python that includes tools for text analysis.\n",
        "It provides implementations of popular machine learning algorithms for text classification, clustering, and dimensionality reduction.\n",
        "scikit-learn offers feature extraction techniques such as bag-of-words, TF-IDF, and word embeddings.\n",
        "It supports integration with other libraries like NLTK and spaCy for advanced text processing tasks.\n",
        "Commonly used for tasks such as document classification, spam detection, and sentiment analysis, often in combination with other libraries."
      ]
    },
    {
      "cell_type": "markdown",
      "metadata": {
        "id": "pG25oJInmCWZ"
      },
      "source": [
        "**Python**"
      ]
    },
    {
      "cell_type": "code",
      "execution_count": 2,
      "metadata": {
        "colab": {
          "base_uri": "https://localhost:8080/"
        },
        "id": "W20pELK5mklG",
        "outputId": "b162dd2a-9eca-417f-a33c-3bb0d83c418e"
      },
      "outputs": [
        {
          "output_type": "stream",
          "name": "stdout",
          "text": [
            "Requirement already satisfied: nltk in /usr/local/lib/python3.10/dist-packages (3.8.1)\n",
            "Requirement already satisfied: click in /usr/local/lib/python3.10/dist-packages (from nltk) (8.1.7)\n",
            "Requirement already satisfied: joblib in /usr/local/lib/python3.10/dist-packages (from nltk) (1.3.2)\n",
            "Requirement already satisfied: regex>=2021.8.3 in /usr/local/lib/python3.10/dist-packages (from nltk) (2023.12.25)\n",
            "Requirement already satisfied: tqdm in /usr/local/lib/python3.10/dist-packages (from nltk) (4.66.2)\n"
          ]
        }
      ],
      "source": [
        "!pip install nltk"
      ]
    },
    {
      "cell_type": "code",
      "execution_count": 3,
      "metadata": {
        "id": "pF2BqaVGmrNB",
        "colab": {
          "base_uri": "https://localhost:8080/"
        },
        "outputId": "75267933-eefd-4529-aecd-5d2ee430fcdc"
      },
      "outputs": [
        {
          "output_type": "stream",
          "name": "stderr",
          "text": [
            "[nltk_data] Downloading package punkt to /root/nltk_data...\n",
            "[nltk_data]   Unzipping tokenizers/punkt.zip.\n"
          ]
        },
        {
          "output_type": "execute_result",
          "data": {
            "text/plain": [
              "True"
            ]
          },
          "metadata": {},
          "execution_count": 3
        }
      ],
      "source": [
        "import nltk\n",
        "nltk.download('punkt')"
      ]
    },
    {
      "cell_type": "code",
      "execution_count": 5,
      "metadata": {
        "id": "Pdo3kYCDmOhh",
        "colab": {
          "base_uri": "https://localhost:8080/"
        },
        "outputId": "044c04f8-c72d-425f-bc87-8b069dbe4680"
      },
      "outputs": [
        {
          "output_type": "stream",
          "name": "stdout",
          "text": [
            "['Hello Baby Kio , how are you doing today?', 'The weather is great, and breeze is awesome.The sky is yellowish-pink.', \"You shouldn't eat cardboard, go and fetch ball.\"]\n"
          ]
        }
      ],
      "source": [
        "#Sentence Tokenization\n",
        "from nltk.tokenize import sent_tokenize\n",
        "text=\"\"\"Hello Baby Kio , how are you doing today? The weather is great, and breeze is awesome.The sky is yellowish-pink. You shouldn't eat cardboard, go and fetch ball.\"\"\"\n",
        "\n",
        "tokenized_text=sent_tokenize(text)\n",
        "print(tokenized_text)"
      ]
    },
    {
      "cell_type": "code",
      "execution_count": 6,
      "metadata": {
        "id": "dGxPOhW6ni0n",
        "colab": {
          "base_uri": "https://localhost:8080/"
        },
        "outputId": "458c0a11-ba6b-4989-fe2a-a0793fd88600"
      },
      "outputs": [
        {
          "output_type": "stream",
          "name": "stdout",
          "text": [
            "['Hello', 'Baby', 'Kio', ',', 'how', 'are', 'you', 'doing', 'today', '?', 'The', 'weather', 'is', 'great', ',', 'and', 'breeze', 'is', 'awesome.The', 'sky', 'is', 'yellowish-pink', '.', 'You', 'should', \"n't\", 'eat', 'cardboard', ',', 'go', 'and', 'fetch', 'ball', '.']\n"
          ]
        }
      ],
      "source": [
        "#Word Tokenization\n",
        "from nltk.tokenize import word_tokenize\n",
        "\n",
        "tokenized_word= word_tokenize(text)\n",
        "\n",
        "print(tokenized_word)"
      ]
    },
    {
      "cell_type": "code",
      "execution_count": 7,
      "metadata": {
        "id": "-TUFw9v4mOqV",
        "colab": {
          "base_uri": "https://localhost:8080/"
        },
        "outputId": "118c0f24-d260-47ca-eb26-8d8b148727e2"
      },
      "outputs": [
        {
          "output_type": "stream",
          "name": "stdout",
          "text": [
            "[(',', 3), ('is', 3)]\n"
          ]
        }
      ],
      "source": [
        "# frequency plot\n",
        "\n",
        "from nltk.probability import FreqDist\n",
        "\n",
        "fdist = FreqDist(tokenized_word)\n",
        "print(fdist.most_common(2))"
      ]
    },
    {
      "cell_type": "code",
      "execution_count": 8,
      "metadata": {
        "id": "_rHASe_6mOxf",
        "colab": {
          "base_uri": "https://localhost:8080/",
          "height": 534
        },
        "outputId": "bd107fee-ad71-487f-f577-f28d8822af77"
      },
      "outputs": [
        {
          "output_type": "display_data",
          "data": {
            "text/plain": [
              "<Figure size 640x480 with 1 Axes>"
            ],
            "image/png": "[encoded data removed]"
          },
          "metadata": {}
        }
      ],
      "source": [
        "# Frequency Distribution Plot\n",
        "import matplotlib.pyplot as plt\n",
        "\n",
        "fdist.plot(30,cumulative=False)\n",
        "plt.show()"
      ]
    },
    {
      "cell_type": "code",
      "execution_count": 14,
      "metadata": {
        "id": "HVXMM2EgmO4v",
        "colab": {
          "base_uri": "https://localhost:8080/"
        },
        "outputId": "2efa83aa-2afa-4e42-b05b-b4c3bb6d49d5"
      },
      "outputs": [
        {
          "output_type": "stream",
          "name": "stderr",
          "text": [
            "[nltk_data] Downloading package stopwords to /root/nltk_data...\n",
            "[nltk_data]   Package stopwords is already up-to-date!\n"
          ]
        },
        {
          "output_type": "execute_result",
          "data": {
            "text/plain": [
              "True"
            ]
          },
          "metadata": {},
          "execution_count": 14
        }
      ],
      "source": [
        "#Remove stopwords & punctuations\n",
        "nltk.download('stopwords')\n"
      ]
    },
    {
      "cell_type": "code",
      "source": [
        "from nltk.corpus import stopwords\n",
        "\n",
        "stop_words= set(stopwords.words('english'))\n",
        "print(stop_words)"
      ],
      "metadata": {
        "colab": {
          "base_uri": "https://localhost:8080/"
        },
        "id": "R07zUVbNuL9Y",
        "outputId": "1d5410d8-19c2-4e88-a40e-fcb5d72f2115"
      },
      "execution_count": 21,
      "outputs": [
        {
          "output_type": "stream",
          "name": "stdout",
          "text": [
            "{'down', 'y', 'my', 'themselves', 'there', 'didn', 'myself', 'until', 'these', 'from', 're', 'his', \"should've\", \"hadn't\", 'd', 'they', 'he', 'no', 'what', 'doing', 'needn', 'we', \"hasn't\", \"haven't\", 'most', 'am', 'very', 'yourself', 'about', 'yourselves', 'do', 'some', 'a', 'mightn', \"shouldn't\", 'me', 'up', 'be', 'to', 'wasn', \"won't\", 'out', 'him', 'were', 'nor', 'being', \"couldn't\", 'off', 'an', 'between', 'you', 'now', 'm', 'should', \"she's\", 'did', 'isn', 'won', \"doesn't\", 'wouldn', 'during', 'own', 'same', 'through', 'will', 'herself', \"mightn't\", 'who', 'over', 'ourselves', 'too', 'does', 'below', 'such', 'hadn', 'here', 'theirs', 'and', \"weren't\", 'aren', 'them', 'having', 'shan', 'haven', 'doesn', 'only', 'have', 'weren', 'how', \"wouldn't\", 'its', \"isn't\", \"aren't\", 'while', 'she', 'their', 'before', 'couldn', 'our', 'for', \"you'd\", 't', 'this', 'ours', 'where', \"wasn't\", 'more', 'why', 'again', 'just', 'hasn', 'at', 'i', \"it's\", 'so', 'when', 'other', 'had', 'mustn', 'whom', 'any', 'as', 'both', 'is', 's', 'o', 'into', 'after', 'ain', 'under', 'those', 'been', \"you've\", 'it', \"you're\", 'himself', 'few', 'your', \"needn't\", 'against', 'or', \"didn't\", \"shan't\", 'once', 'with', 'not', 'll', 'was', \"mustn't\", 'because', 'can', 'in', 'that', 'above', 'but', 'has', 'hers', 'on', 'all', 'by', 'don', 'her', 'ma', 'are', \"that'll\", 'further', 'yours', 'of', 'shouldn', 'if', \"don't\", 'the', 'then', 've', \"you'll\", 'itself', 'than', 'each', 'which'}\n"
          ]
        }
      ]
    },
    {
      "cell_type": "code",
      "execution_count": 22,
      "metadata": {
        "id": "gAZ8hZXgmPUe",
        "colab": {
          "base_uri": "https://localhost:8080/"
        },
        "outputId": "09219ef3-d90a-4e74-8e27-1b51b015f8f6"
      },
      "outputs": [
        {
          "output_type": "stream",
          "name": "stdout",
          "text": [
            "Tokenized Words: ['Hello', 'Baby', 'Kio', ',', 'how', 'are', 'you', 'doing', 'today', '?', 'The', 'weather', 'is', 'great', ',', 'and', 'breeze', 'is', 'awesome.The', 'sky', 'is', 'yellowish-pink', '.', 'You', 'should', \"n't\", 'eat', 'cardboard', ',', 'go', 'and', 'fetch', 'ball', '.']\n",
            "Filtered Tokens: ['Hello', 'Baby', 'Kio', ',', 'today', '?', 'The', 'weather', 'great', ',', 'breeze', 'awesome.The', 'sky', 'yellowish-pink', '.', 'You', \"n't\", 'eat', 'cardboard', ',', 'go', 'fetch', 'ball', '.']\n"
          ]
        }
      ],
      "source": [
        "filtered_tokens=[]\n",
        "for word in tokenized_word:\n",
        "    if word not in stop_words:\n",
        "         filtered_tokens.append(word)\n",
        "\n",
        "print(\"Tokenized Words:\",tokenized_word)\n",
        "print(\"Filtered Tokens:\",filtered_tokens)"
      ]
    },
    {
      "cell_type": "code",
      "execution_count": 23,
      "metadata": {
        "id": "nkgtsFfPmPpp",
        "colab": {
          "base_uri": "https://localhost:8080/"
        },
        "outputId": "8a0abd45-9a28-4a12-9f1b-bb93d5ec6f65"
      },
      "outputs": [
        {
          "output_type": "stream",
          "name": "stdout",
          "text": [
            "Filtered Tokens After Removing Punctuations: ['Hello', 'Baby', 'Kio', 'today', 'The', 'weather', 'great', 'breeze', 'awesome.The', 'sky', 'yellowish-pink', 'You', \"n't\", 'eat', 'cardboard', 'go', 'fetch', 'ball']\n"
          ]
        }
      ],
      "source": [
        "import string\n",
        "\n",
        "# punctuations\n",
        "punctuations=list(string.punctuation)\n",
        "\n",
        "filtered_tokens2=[]\n",
        "\n",
        "for i in filtered_tokens:\n",
        "    if i not in punctuations:\n",
        "        filtered_tokens2.append(i)\n",
        "\n",
        "print(\"Filtered Tokens After Removing Punctuations:\",filtered_tokens2)"
      ]
    },
    {
      "cell_type": "code",
      "execution_count": 24,
      "metadata": {
        "id": "cZhUUkw-phoi",
        "colab": {
          "base_uri": "https://localhost:8080/"
        },
        "outputId": "c785e4cf-7d4b-4cdf-c663-0bf76e755825"
      },
      "outputs": [
        {
          "output_type": "stream",
          "name": "stdout",
          "text": [
            "Filtered Tokens After Removing Punctuations: ['Hello', 'Baby', 'Kio', 'today', 'The', 'weather', 'great', 'breeze', 'awesome.The', 'sky', 'yellowish-pink', 'You', \"n't\", 'eat', 'cardboard', 'go', 'fetch', 'ball']\n",
            "Stemmed Tokens: ['hello', 'babi', 'kio', 'today', 'the', 'weather', 'great', 'breez', 'awesome.th', 'sky', 'yellowish-pink', 'you', \"n't\", 'eat', 'cardboard', 'go', 'fetch', 'ball']\n"
          ]
        }
      ],
      "source": [
        "# Lexicon Normalization\n",
        "\n",
        "# Stemming\n",
        "\n",
        "from nltk.stem import PorterStemmer\n",
        "from nltk.tokenize import sent_tokenize, word_tokenize\n",
        "ps = PorterStemmer()\n",
        "\n",
        "stemmed_words=[]\n",
        "\n",
        "for word in filtered_tokens2:\n",
        "     stemmed_words.append(ps.stem(word))\n",
        "\n",
        "print(\"Filtered Tokens After Removing Punctuations:\",filtered_tokens2)\n",
        "print(\"Stemmed Tokens:\",stemmed_words)\n"
      ]
    },
    {
      "cell_type": "code",
      "execution_count": 25,
      "metadata": {
        "id": "swsAxmXbpht3",
        "colab": {
          "base_uri": "https://localhost:8080/"
        },
        "outputId": "b0ef5933-82e3-4590-8399-2a21f0dade28"
      },
      "outputs": [
        {
          "output_type": "stream",
          "name": "stderr",
          "text": [
            "[nltk_data] Downloading package wordnet to /root/nltk_data...\n"
          ]
        },
        {
          "output_type": "stream",
          "name": "stdout",
          "text": [
            "Lemmatized Word: fly\n",
            "Stemmed Word: fli\n"
          ]
        }
      ],
      "source": [
        "# Lemmatization\n",
        "nltk.download('wordnet')\n",
        "\n",
        "\n",
        "from nltk.stem.wordnet import WordNetLemmatizer\n",
        "from nltk.stem.porter import PorterStemmer\n",
        "\n",
        "lem = WordNetLemmatizer()\n",
        "stem = PorterStemmer()\n",
        "word = \"flying\"\n",
        "\n",
        "print(\"Lemmatized Word:\",lem.lemmatize(word,\"v\"))\n",
        "\n",
        "print(\"Stemmed Word:\",stem.stem(word))"
      ]
    },
    {
      "cell_type": "code",
      "execution_count": 26,
      "metadata": {
        "id": "ONSHkgZZphyO",
        "colab": {
          "base_uri": "https://localhost:8080/"
        },
        "outputId": "3479b56a-a91b-4613-eda3-22ebc4214763"
      },
      "outputs": [
        {
          "output_type": "stream",
          "name": "stderr",
          "text": [
            "[nltk_data] Downloading package averaged_perceptron_tagger to\n",
            "[nltk_data]     /root/nltk_data...\n",
            "[nltk_data]   Unzipping taggers/averaged_perceptron_tagger.zip.\n"
          ]
        },
        {
          "output_type": "stream",
          "name": "stdout",
          "text": [
            "Tokens: ['Kiyomi', 'is', 'a', 'Labrador', 'Retriever', '.', 'She', 'identifies', 'as', 'a', 'Dog', '.', 'She', 'is', 'white', 'and', 'Golden', 'coloured', '.']\n",
            "PoS tags: [('Kiyomi', 'NNP'), ('is', 'VBZ'), ('a', 'DT'), ('Labrador', 'NNP'), ('Retriever', 'NNP'), ('.', '.'), ('She', 'PRP'), ('identifies', 'VBZ'), ('as', 'IN'), ('a', 'DT'), ('Dog', 'NNP'), ('.', '.'), ('She', 'PRP'), ('is', 'VBZ'), ('white', 'JJ'), ('and', 'CC'), ('Golden', 'NNP'), ('coloured', 'VBD'), ('.', '.')]\n"
          ]
        }
      ],
      "source": [
        "#Part of Speech tagging\n",
        "\n",
        "nltk.download('averaged_perceptron_tagger')\n",
        "from nltk.tokenize import word_tokenize\n",
        "from nltk import pos_tag\n",
        "\n",
        "sent = \"Kiyomi is a Labrador Retriever. She identifies as a Dog. She is white and Golden coloured.\"\n",
        "\n",
        "tokens=word_tokenize(sent)\n",
        "pos=pos_tag(tokens)\n",
        "\n",
        "\n",
        "print(\"Tokens:\",tokens)\n",
        "print(\"PoS tags:\",pos)"
      ]
    },
    {
      "cell_type": "code",
      "execution_count": 27,
      "metadata": {
        "id": "WbdXe5letCcX",
        "colab": {
          "base_uri": "https://localhost:8080/"
        },
        "outputId": "728fbe7e-2ddd-4900-da32-6f27a9801215"
      },
      "outputs": [
        {
          "output_type": "stream",
          "name": "stderr",
          "text": [
            "[nltk_data] Downloading package maxent_ne_chunker to\n",
            "[nltk_data]     /root/nltk_data...\n",
            "[nltk_data]   Unzipping chunkers/maxent_ne_chunker.zip.\n",
            "[nltk_data] Downloading package words to /root/nltk_data...\n",
            "[nltk_data]   Unzipping corpora/words.zip.\n"
          ]
        },
        {
          "output_type": "execute_result",
          "data": {
            "text/plain": [
              "True"
            ]
          },
          "metadata": {},
          "execution_count": 27
        }
      ],
      "source": [
        "nltk.download('maxent_ne_chunker')\n",
        "nltk.download('words')\n"
      ]
    },
    {
      "cell_type": "code",
      "execution_count": 28,
      "metadata": {
        "id": "mhQxt7bSph1i",
        "colab": {
          "base_uri": "https://localhost:8080/"
        },
        "outputId": "c1892397-dacd-45dc-e30c-f9a80a5aa84f"
      },
      "outputs": [
        {
          "output_type": "stream",
          "name": "stdout",
          "text": [
            "PERSON Trinamool\n",
            "ORGANIZATION Congress\n",
            "PERSON Mahua Moitra\n",
            "ORGANIZATION Supreme Court\n",
            "ORGANIZATION Lok Sabha\n",
            "PERSON Moitra\n",
            "ORGANIZATION Parliament\n",
            "ORGANIZATION Ethics Committee\n",
            "ORGANIZATION Lok Sabha\n",
            "PERSON Darshan Hiranandani\n"
          ]
        }
      ],
      "source": [
        "# Named Entity Recognization\n",
        "\n",
        "from nltk import ne_chunk\n",
        "\n",
        "sent=\"Trinamool Congress leader Mahua Moitra has moved the Supreme Court against her expulsion from the Lok Sabha over the cash-for-query allegations against her. Moitra was ousted from the Parliament last week after the Ethics Committee of the Lok Sabha found her guilty of jeopardising national security by sharing her parliamentary portal's login credentials with businessman Darshan Hiranandani.\"\n",
        "tok_w=word_tokenize(sent)\n",
        "pos_w = nltk.pos_tag(tok_w)\n",
        "for chunk in ne_chunk(pos_w):\n",
        "        if hasattr(chunk, 'label'):\n",
        "            print(chunk.label(), ' '.join(c[0] for c in chunk))\n"
      ]
    },
    {
      "cell_type": "code",
      "execution_count": 29,
      "metadata": {
        "id": "8Jo8o6uBuZvZ"
      },
      "outputs": [],
      "source": [
        "# scraping data from website\n",
        "import requests\n",
        "from bs4 import BeautifulSoup\n",
        "\n",
        "# Fetch the HTML content\n",
        "url = 'https://www.bbc.com/news'\n",
        "response = requests.get(url)\n",
        "html_content = response.text\n",
        "\n",
        "# Parse the HTML\n",
        "soup = BeautifulSoup(html_content, 'lxml')\n",
        "\n",
        "# Extract the desired data (e.g., titles, prices, etc.)\n",
        "# Example: Extract all the titles of articles\n",
        "titles = [title.text for title in soup.find_all('h2')]"
      ]
    },
    {
      "cell_type": "code",
      "execution_count": 30,
      "metadata": {
        "id": "LTeT79QyupmR",
        "colab": {
          "base_uri": "https://localhost:8080/"
        },
        "outputId": "3c8082fe-1206-4096-ca54-e32d3fcc9a6c"
      },
      "outputs": [
        {
          "output_type": "execute_result",
          "data": {
            "text/plain": [
              "[\"Navalny's body 'to be held for two weeks'\",\n",
              " 'Russia accused of executing prisoners of war in Avdiivka',\n",
              " 'US man sues lottery after being told $340m win is error',\n",
              " 'WHO releases video from inside raided Gaza hospital',\n",
              " \"Hacker group's site taken over by law enforcement\"]"
            ]
          },
          "metadata": {},
          "execution_count": 30
        }
      ],
      "source": [
        "titles[:5]"
      ]
    },
    {
      "cell_type": "markdown",
      "metadata": {
        "id": "ELUnqhySjRB3"
      },
      "source": [
        "**2.Explore Top-5 Text Analytics Libraries in R (w.r.t Features & Applications)**\n",
        "\n",
        "---\n"
      ]
    },
    {
      "cell_type": "markdown",
      "metadata": {
        "id": "90LsgKJLjwXI"
      },
      "source": [
        "**tm (Text Mining Infrastructure in R):**\n",
        "\n",
        ">The tm package provides a framework for text mining applications in R.\n",
        "It offers functionalities for text preprocessing, including tokenization, stemming, stop-word removal, and term-document matrix creation.\n",
        "tm supports various text mining algorithms such as term frequency-inverse document frequency (TF-IDF), latent semantic analysis (LSA), and topic modeling with algorithms like Latent Dirichlet Allocation (LDA).\n",
        "\n",
        "**quanteda:**\n",
        "\n",
        ">quanteda is a powerful and user-friendly text analysis package in R.\n",
        "It provides a streamlined approach for text corpus management, tokenization, and feature engineering.\n",
        "quanteda offers a wide range of text analysis methods, including document-feature matrices, n-gram analysis, and sentiment analysis.\n",
        "It supports advanced techniques such as network analysis and word embeddings.\n",
        "\n",
        "**tidytext:**\n",
        "\n",
        ">The tidytext package integrates text mining capabilities into the tidyverse ecosystem in R.\n",
        "It leverages the principles of tidy data for text analysis, making it easy to combine with other tidyverse packages like dplyr and ggplot2.\n",
        "tidytext provides functions for tokenization, term frequency calculations, and sentiment analysis.\n",
        "It enables seamless integration of text data with statistical modeling and visualization workflows.\n",
        "\n",
        "**text2vec:**\n",
        "\n",
        ">text2vec is a high-performance package for text analysis and machine learning with large datasets.\n",
        "It offers efficient implementations of text processing tasks such as tokenization, word embeddings, and text vectorization.\n",
        "text2vec provides tools for training word embeddings using algorithms like word2vec and GloVe.\n",
        "It supports scalable text vectorization techniques such as global VSM and locality-sensitive hashing (LSH).\n",
        "\n",
        "**RWeka:**\n",
        "\n",
        ">R interface to the WEKA machine learning toolkit, providing access to a wide range of classifiers, feature selection methods, and evaluation metrics.\n",
        "Can be used for text classification, clustering, and other machine learning tasks related to text analytics within the Shiny framework."
      ]
    },
    {
      "cell_type": "markdown",
      "metadata": {
        "id": "vflRxkc1lLnI"
      },
      "source": [
        "**R:**\n",
        "\n",
        "---"
      ]
    },
    {
      "cell_type": "code",
      "execution_count": 3,
      "metadata": {
        "id": "L0clLY9WvO-N",
        "colab": {
          "base_uri": "https://localhost:8080/"
        },
        "outputId": "adeb7133-7901-4222-c736-13444b8b07f0"
      },
      "outputs": [
        {
          "output_type": "stream",
          "name": "stderr",
          "text": [
            "Installing package into ‘/usr/local/lib/R/site-library’\n",
            "(as ‘lib’ is unspecified)\n",
            "\n",
            "also installing the dependency ‘SnowballC’\n",
            "\n",
            "\n"
          ]
        }
      ],
      "source": [
        "# Install and load the 'tokenizers' package\n",
        "install.packages(\"tokenizers\")\n",
        "library(tokenizers)\n",
        "\n"
      ]
    },
    {
      "cell_type": "code",
      "execution_count": 4,
      "metadata": {
        "id": "t31yz1ecviSP",
        "colab": {
          "base_uri": "https://localhost:8080/"
        },
        "outputId": "9420311a-d816-45a4-b2c6-e8da0a9a1c02"
      },
      "outputs": [
        {
          "output_type": "stream",
          "name": "stdout",
          "text": [
            "[[1]]\n",
            " [1] \"puppies\"       \"with\"          \"their\"         \"boundless\"    \n",
            " [5] \"energy\"        \"innocent\"      \"curiosity\"     \"and\"          \n",
            " [9] \"endearing\"     \"clumsiness\"    \"never\"         \"fail\"         \n",
            "[13] \"to\"            \"capture\"       \"our\"           \"hearts\"       \n",
            "[17] \"these\"         \"fluffy\"        \"bundles\"       \"of\"           \n",
            "[21] \"joy\"           \"exude\"         \"pure\"          \"happiness\"    \n",
            "[25] \"and\"           \"contagious\"    \"enthusiasm\"    \"as\"           \n",
            "[29] \"they\"          \"explore\"       \"the\"           \"world\"        \n",
            "[33] \"around\"        \"them\"          \"with\"          \"wide\"         \n",
            "[37] \"eyed\"          \"wonder\"        \"from\"          \"their\"        \n",
            "[41] \"playful\"       \"antics\"        \"to\"            \"their\"        \n",
            "[45] \"affectionate\"  \"snuggles\"      \"puppies\"       \"possess\"      \n",
            "[49] \"an\"            \"irresistible\"  \"charm\"         \"that\"         \n",
            "[53] \"brightens\"     \"even\"          \"the\"           \"gloomiest\"    \n",
            "[57] \"of\"            \"days\"          \"with\"          \"their\"        \n",
            "[61] \"loyal\"         \"companionship\" \"and\"           \"unwavering\"   \n",
            "[65] \"love\"          \"puppies\"       \"bring\"         \"warmth\"       \n",
            "[69] \"and\"           \"laughter\"      \"into\"          \"our\"          \n",
            "[73] \"lives\"         \"leaving\"       \"an\"            \"indelible\"    \n",
            "[77] \"mark\"          \"on\"            \"our\"           \"hearts\"       \n",
            "[81] \"forever\"      \n",
            "\n"
          ]
        }
      ],
      "source": [
        "#tokenize words\n",
        "\n",
        "text <- \"Puppies, with their boundless energy, innocent curiosity, and endearing clumsiness, never fail to capture our hearts.\n",
        "These fluffy bundles of joy exude pure happiness and contagious enthusiasm as they explore the world around them with wide-eyed wonder.\n",
        "From their playful antics to their affectionate snuggles, puppies possess an irresistible charm that brightens even the gloomiest of days.\n",
        "With their loyal companionship and unwavering love, puppies bring warmth and laughter into our lives, leaving an indelible mark on our hearts forever.\"\n",
        "\n",
        "# Tokenize the text into words\n",
        "word_tokens <- tokenize_words(text)\n",
        "\n",
        "# Print the result\n",
        "print(word_tokens)"
      ]
    },
    {
      "cell_type": "code",
      "execution_count": 5,
      "metadata": {
        "id": "bnXZZ-v2vSP6",
        "colab": {
          "base_uri": "https://localhost:8080/",
          "height": 114
        },
        "outputId": "2228d4cf-54da-4cab-aec0-47529283dee7"
      },
      "outputs": [
        {
          "output_type": "display_data",
          "data": {
            "text/html": [
              "<ol>\n",
              "\t<li><style>\n",
              ".list-inline {list-style: none; margin:0; padding: 0}\n",
              ".list-inline>li {display: inline-block}\n",
              ".list-inline>li:not(:last-child)::after {content: \"\\00b7\"; padding: 0 .5ex}\n",
              "</style>\n",
              "<ol class=list-inline><li>'Puppies, with their boundless energy, innocent curiosity, and endearing clumsiness, never fail to capture our hearts.'</li><li>'These fluffy bundles of joy exude pure happiness and contagious enthusiasm as they explore the world around them with wide-eyed wonder.'</li><li>'From their playful antics to their affectionate snuggles, puppies possess an irresistible charm that brightens even the gloomiest of days.'</li><li>'With their loyal companionship and unwavering love, puppies bring warmth and laughter into our lives, leaving an indelible mark on our hearts forever.'</li></ol>\n",
              "</li>\n",
              "</ol>\n"
            ],
            "text/markdown": "1. 1. 'Puppies, with their boundless energy, innocent curiosity, and endearing clumsiness, never fail to capture our hearts.'\n2. 'These fluffy bundles of joy exude pure happiness and contagious enthusiasm as they explore the world around them with wide-eyed wonder.'\n3. 'From their playful antics to their affectionate snuggles, puppies possess an irresistible charm that brightens even the gloomiest of days.'\n4. 'With their loyal companionship and unwavering love, puppies bring warmth and laughter into our lives, leaving an indelible mark on our hearts forever.'\n\n\n\n\n\n",
            "text/latex": "\\begin{enumerate}\n\\item \\begin{enumerate*}\n\\item 'Puppies, with their boundless energy, innocent curiosity, and endearing clumsiness, never fail to capture our hearts.'\n\\item 'These fluffy bundles of joy exude pure happiness and contagious enthusiasm as they explore the world around them with wide-eyed wonder.'\n\\item 'From their playful antics to their affectionate snuggles, puppies possess an irresistible charm that brightens even the gloomiest of days.'\n\\item 'With their loyal companionship and unwavering love, puppies bring warmth and laughter into our lives, leaving an indelible mark on our hearts forever.'\n\\end{enumerate*}\n\n\\end{enumerate}\n",
            "text/plain": [
              "[[1]]\n",
              "[1] \"Puppies, with their boundless energy, innocent curiosity, and endearing clumsiness, never fail to capture our hearts.\"                                 \n",
              "[2] \"These fluffy bundles of joy exude pure happiness and contagious enthusiasm as they explore the world around them with wide-eyed wonder.\"               \n",
              "[3] \"From their playful antics to their affectionate snuggles, puppies possess an irresistible charm that brightens even the gloomiest of days.\"            \n",
              "[4] \"With their loyal companionship and unwavering love, puppies bring warmth and laughter into our lives, leaving an indelible mark on our hearts forever.\"\n"
            ]
          },
          "metadata": {}
        }
      ],
      "source": [
        "#tokenize sentences\n",
        "tokenize_sentences(text)\n"
      ]
    },
    {
      "cell_type": "code",
      "execution_count": 6,
      "metadata": {
        "id": "W2NLIHbrvSl5",
        "colab": {
          "base_uri": "https://localhost:8080/"
        },
        "outputId": "1def1e4e-be84-4283-d0f2-841c72eeb26c"
      },
      "outputs": [
        {
          "output_type": "stream",
          "name": "stderr",
          "text": [
            "Installing package into ‘/usr/local/lib/R/site-library’\n",
            "(as ‘lib’ is unspecified)\n",
            "\n",
            "Installing package into ‘/usr/local/lib/R/site-library’\n",
            "(as ‘lib’ is unspecified)\n",
            "\n",
            "also installing the dependency ‘janeaustenr’\n",
            "\n",
            "\n",
            "Installing package into ‘/usr/local/lib/R/site-library’\n",
            "(as ‘lib’ is unspecified)\n",
            "\n",
            "also installing the dependencies ‘NLP’, ‘slam’, ‘BH’\n",
            "\n",
            "\n",
            "── \u001b[1mAttaching core tidyverse packages\u001b[22m ──────────────────────── tidyverse 2.0.0 ──\n",
            "\u001b[32m✔\u001b[39m \u001b[34mdplyr    \u001b[39m 1.1.4     \u001b[32m✔\u001b[39m \u001b[34mreadr    \u001b[39m 2.1.5\n",
            "\u001b[32m✔\u001b[39m \u001b[34mforcats  \u001b[39m 1.0.0     \u001b[32m✔\u001b[39m \u001b[34mstringr  \u001b[39m 1.5.1\n",
            "\u001b[32m✔\u001b[39m \u001b[34mggplot2  \u001b[39m 3.4.4     \u001b[32m✔\u001b[39m \u001b[34mtibble   \u001b[39m 3.2.1\n",
            "\u001b[32m✔\u001b[39m \u001b[34mlubridate\u001b[39m 1.9.3     \u001b[32m✔\u001b[39m \u001b[34mtidyr    \u001b[39m 1.3.1\n",
            "\u001b[32m✔\u001b[39m \u001b[34mpurrr    \u001b[39m 1.0.2     \n",
            "── \u001b[1mConflicts\u001b[22m ────────────────────────────────────────── tidyverse_conflicts() ──\n",
            "\u001b[31m✖\u001b[39m \u001b[34mdplyr\u001b[39m::\u001b[32mfilter()\u001b[39m masks \u001b[34mstats\u001b[39m::filter()\n",
            "\u001b[31m✖\u001b[39m \u001b[34mdplyr\u001b[39m::\u001b[32mlag()\u001b[39m    masks \u001b[34mstats\u001b[39m::lag()\n",
            "\u001b[36mℹ\u001b[39m Use the conflicted package (\u001b[3m\u001b[34m<http://conflicted.r-lib.org/>\u001b[39m\u001b[23m) to force all conflicts to become errors\n",
            "Loading required package: NLP\n",
            "\n",
            "\n",
            "Attaching package: ‘NLP’\n",
            "\n",
            "\n",
            "The following object is masked from ‘package:ggplot2’:\n",
            "\n",
            "    annotate\n",
            "\n",
            "\n"
          ]
        }
      ],
      "source": [
        "install.packages(\"tidyverse\")\n",
        "install.packages(\"tidytext\")\n",
        "install.packages(\"tm\")\n",
        "library(tidyverse)\n",
        "library(tidytext)\n",
        "library(tm)"
      ]
    },
    {
      "cell_type": "code",
      "execution_count": 7,
      "metadata": {
        "id": "MhgbPY1_vSyo",
        "colab": {
          "base_uri": "https://localhost:8080/",
          "height": 437
        },
        "outputId": "4ca30fb8-720d-4afc-bfc2-48e59a24df1b"
      },
      "outputs": [
        {
          "output_type": "display_data",
          "data": {
            "text/plain": [
              "plot without title"
            ],
            "image/png": "[encoded data removed]"
          },
          "metadata": {
            "image/png": {
              "width": 420,
              "height": 420
            }
          }
        }
      ],
      "source": [
        "# Create a data frame with text data\n",
        "df <- data.frame(text = text)\n",
        "\n",
        "# Tokenize the text\n",
        "tokens <- df %>%\n",
        "  unnest_tokens(word, text)\n",
        "\n",
        "# Count word frequency\n",
        "word_freq <- tokens %>%\n",
        "  count(word, sort = TRUE)\n",
        "\n",
        "# Plot barplot\n",
        "ggplot(word_freq, aes(x = word, y = n)) +\n",
        "  geom_bar(stat = \"identity\") +\n",
        "  labs(title = \"Word Frequency\", x = \"Words\", y = \"Frequency\") +\n",
        "  theme(axis.text.x = element_text(angle = 45, hjust = 1))\n",
        "\n"
      ]
    },
    {
      "cell_type": "code",
      "execution_count": 8,
      "metadata": {
        "id": "qaWjIIQJvS-5",
        "colab": {
          "base_uri": "https://localhost:8080/"
        },
        "outputId": "0781a395-b1a9-49ae-f2bb-ed39e0d98392"
      },
      "outputs": [
        {
          "output_type": "stream",
          "name": "stderr",
          "text": [
            "\u001b[1m\u001b[22mJoining with `by = join_by(word)`\n"
          ]
        },
        {
          "output_type": "stream",
          "name": "stdout",
          "text": [
            "            word\n",
            "1        puppies\n",
            "2      boundless\n",
            "3         energy\n",
            "4       innocent\n",
            "5      curiosity\n",
            "6      endearing\n",
            "7     clumsiness\n",
            "8           fail\n",
            "9        capture\n",
            "10        hearts\n",
            "11        fluffy\n",
            "12       bundles\n",
            "13           joy\n",
            "14         exude\n",
            "15          pure\n",
            "16     happiness\n",
            "17    contagious\n",
            "18    enthusiasm\n",
            "19       explore\n",
            "20         world\n",
            "21          wide\n",
            "22          eyed\n",
            "23       playful\n",
            "24        antics\n",
            "25  affectionate\n",
            "26      snuggles\n",
            "27       puppies\n",
            "28       possess\n",
            "29  irresistible\n",
            "30         charm\n",
            "31     brightens\n",
            "32     gloomiest\n",
            "33          days\n",
            "34         loyal\n",
            "35 companionship\n",
            "36    unwavering\n",
            "37          love\n",
            "38       puppies\n",
            "39         bring\n",
            "40        warmth\n",
            "41      laughter\n",
            "42         lives\n",
            "43       leaving\n",
            "44     indelible\n",
            "45          mark\n",
            "46        hearts\n",
            "47       forever\n"
          ]
        }
      ],
      "source": [
        "# Load the tidytext package\n",
        "library(tidytext)\n",
        "\n",
        "# Create a data frame with text data\n",
        "df <- data.frame(text = text)\n",
        "\n",
        "# Tokenize the text\n",
        "tokens <- df %>%unnest_tokens(word, text)\n",
        "\n",
        "# Remove stopwords\n",
        "tokens <- tokens %>%anti_join(stop_words)\n",
        "\n",
        "# Remove punctuations\n",
        "tokens <- tokens %>%mutate(word = gsub(\"[[:punct:]]\", \"\", word))\n",
        "\n",
        "# View the cleaned tokens\n",
        "print(tokens)\n",
        "\n"
      ]
    },
    {
      "cell_type": "code",
      "execution_count": 12,
      "metadata": {
        "id": "5UN5R2uSvTIw",
        "colab": {
          "base_uri": "https://localhost:8080/"
        },
        "outputId": "1611bbc1-f394-4e58-b874-3a2eeb435562"
      },
      "outputs": [
        {
          "metadata": {
            "tags": null
          },
          "name": "stderr",
          "output_type": "stream",
          "text": [
            "Installing package into ‘/usr/local/lib/R/site-library’\n",
            "(as ‘lib’ is unspecified)\n",
            "\n",
            "also installing the dependency ‘quanteda’\n",
            "\n",
            "\n"
          ]
        }
      ],
      "source": [
        "install.packages(\"textstem\")"
      ]
    },
    {
      "cell_type": "code",
      "source": [
        "library(textstem)"
      ],
      "metadata": {
        "id": "A42CyNQUxvv5"
      },
      "execution_count": null,
      "outputs": []
    },
    {
      "cell_type": "code",
      "execution_count": 14,
      "metadata": {
        "id": "omN8bUEcvTQX",
        "colab": {
          "base_uri": "https://localhost:8080/"
        },
        "outputId": "cc9f9024-4f23-48d0-960d-9daa2b580463"
      },
      "outputs": [
        {
          "output_type": "stream",
          "name": "stdout",
          "text": [
            "[1] \"run\"   \"write\" \"play\" \n"
          ]
        }
      ],
      "source": [
        "\n",
        "# Example text data\n",
        "text <- c(\"running\",\n",
        "          \"writes\",\n",
        "          \"played\")\n",
        "\n",
        "# Lemmatize the text\n",
        "lemmas <- lemmatize_words(text)\n",
        "\n",
        "# Print lemmatized text\n",
        "print(lemmas)"
      ]
    },
    {
      "cell_type": "code",
      "execution_count": 17,
      "metadata": {
        "id": "m0lQQcgc2ai-",
        "colab": {
          "base_uri": "https://localhost:8080/"
        },
        "outputId": "80999aad-ff58-485d-bd08-57de8366ce54"
      },
      "outputs": [
        {
          "output_type": "stream",
          "name": "stderr",
          "text": [
            "Installing package into ‘/usr/local/lib/R/site-library’\n",
            "(as ‘lib’ is unspecified)\n",
            "\n"
          ]
        }
      ],
      "source": [
        "# Install and load required packages\n",
        "install.packages(\"SnowballC\")\n",
        "\n",
        "library(SnowballC)\n",
        "\n"
      ]
    },
    {
      "cell_type": "code",
      "source": [
        "\n",
        "# Perform stemming\n",
        "stemmed_text <- sapply(text, function(word) {\n",
        "  stemmed_word <- wordStem(word, language = \"en\")\n",
        "  return(stemmed_word)\n",
        "})\n",
        "\n"
      ],
      "metadata": {
        "id": "TbAwIOJ30Hzx"
      },
      "execution_count": 18,
      "outputs": []
    },
    {
      "cell_type": "code",
      "source": [
        "\n",
        "# Print the stemmed text\n",
        "print(stemmed_text)\n"
      ],
      "metadata": {
        "colab": {
          "base_uri": "https://localhost:8080/"
        },
        "id": "p3qYejA40H34",
        "outputId": "6fc249cb-8e3c-412b-8ee9-3f4b2ceeb4e3"
      },
      "execution_count": 19,
      "outputs": [
        {
          "output_type": "stream",
          "name": "stdout",
          "text": [
            "running  writes  played \n",
            "  \"run\" \"write\"  \"play\" \n"
          ]
        }
      ]
    },
    {
      "cell_type": "code",
      "source": [
        "install.packages(\"udpipe\")\n"
      ],
      "metadata": {
        "id": "uaTPjC7bpVRk",
        "colab": {
          "base_uri": "https://localhost:8080/"
        },
        "outputId": "489e4562-a6c4-4888-be8e-eb7e7c89b9ac"
      },
      "execution_count": 20,
      "outputs": [
        {
          "output_type": "stream",
          "name": "stderr",
          "text": [
            "Installing package into ‘/usr/local/lib/R/site-library’\n",
            "(as ‘lib’ is unspecified)\n",
            "\n"
          ]
        }
      ]
    },
    {
      "cell_type": "code",
      "source": [
        "library(udpipe)\n"
      ],
      "metadata": {
        "id": "ZKM_gcpYpVvd"
      },
      "execution_count": 21,
      "outputs": []
    },
    {
      "cell_type": "code",
      "source": [
        "# Load pre-trained model for English\n",
        "ud_model <- udpipe_download_model(language = \"english\")\n",
        "ud_model <- udpipe_load_model(ud_model$file_model)"
      ],
      "metadata": {
        "id": "LHeYUN8VpU_0"
      },
      "execution_count": null,
      "outputs": []
    },
    {
      "cell_type": "code",
      "source": [
        "# Sample text\n",
        "text <- \"NLTK is a leading platform for building Python programs to work with human language data.\"\n",
        "\n",
        "# Tokenize and perform POS tagging\n",
        "parsed_text <- udpipe_annotate(ud_model, x = text)\n",
        "pos_tags <- as.data.frame(parsed_text)$upos\n",
        "\n",
        "# Print the POS tags\n",
        "print(pos_tags)"
      ],
      "metadata": {
        "colab": {
          "base_uri": "https://localhost:8080/"
        },
        "id": "p_DTqhWYyE6D",
        "outputId": "ddf50ca2-aa80-4abf-e213-fcbdbcd1eb7b"
      },
      "execution_count": 25,
      "outputs": [
        {
          "output_type": "stream",
          "name": "stdout",
          "text": [
            " [1] \"PROPN\" \"AUX\"   \"DET\"   \"VERB\"  \"NOUN\"  \"ADP\"   \"NOUN\"  \"NOUN\"  \"NOUN\" \n",
            "[10] \"PART\"  \"VERB\"  \"ADP\"   \"ADJ\"   \"NOUN\"  \"NOUN\"  \"PUNCT\"\n"
          ]
        }
      ]
    },
    {
      "cell_type": "code",
      "source": [
        "# Define the text\n",
        "text <- \"Barack Obama was born in Hawaii and became the 44th President of the United States.\"\n",
        "\n",
        "# Tokenize and annotate the text for NER\n",
        "parsed_text <- udpipe_annotate(ud_model, x = text, trace = TRUE)\n",
        "entities <- as.data.frame(parsed_text)$entity\n",
        "\n",
        "# Print the named entities\n",
        "print(entities)"
      ],
      "metadata": {
        "colab": {
          "base_uri": "https://localhost:8080/"
        },
        "id": "3Nqq9JAPyEyr",
        "outputId": "8fbf9d62-4414-4846-e73e-d77a26793307"
      },
      "execution_count": 26,
      "outputs": [
        {
          "output_type": "stream",
          "name": "stdout",
          "text": [
            "2024-02-20 04:44:33.800678 Annotating text fragment 1/1\n",
            "NULL\n"
          ]
        }
      ]
    },
    {
      "cell_type": "code",
      "source": [
        "# Install and load required packages\n",
        "install.packages(\"rvest\")\n"
      ],
      "metadata": {
        "colab": {
          "base_uri": "https://localhost:8080/"
        },
        "id": "rR1PZyRNyEwD",
        "outputId": "27a62e63-174e-4be4-bfff-bf851996919c"
      },
      "execution_count": 27,
      "outputs": [
        {
          "output_type": "stream",
          "name": "stderr",
          "text": [
            "Installing package into ‘/usr/local/lib/R/site-library’\n",
            "(as ‘lib’ is unspecified)\n",
            "\n"
          ]
        }
      ]
    },
    {
      "cell_type": "code",
      "source": [
        "library(rvest)\n"
      ],
      "metadata": {
        "colab": {
          "base_uri": "https://localhost:8080/"
        },
        "id": "fAyIQSwb1db5",
        "outputId": "2392e078-1734-476e-9ffa-483d33129e47"
      },
      "execution_count": 28,
      "outputs": [
        {
          "output_type": "stream",
          "name": "stderr",
          "text": [
            "\n",
            "Attaching package: ‘rvest’\n",
            "\n",
            "\n",
            "The following object is masked from ‘package:readr’:\n",
            "\n",
            "    guess_encoding\n",
            "\n",
            "\n"
          ]
        }
      ]
    },
    {
      "cell_type": "code",
      "source": [
        "# URL of the website to scrape\n",
        "url <- \"https://www.imdb.com/chart/top\"\n",
        "\n",
        "# Read the HTML content of the webpage\n",
        "webpage <- read_html(url)\n",
        "\n",
        "# Extract movie titles\n",
        "titles <- webpage %>%\n",
        "  html_nodes(\".titleColumn a\") %>%\n",
        "  html_text()\n",
        "\n",
        "# Extract movie ratings\n",
        "ratings <- webpage %>%\n",
        "  html_nodes(\".ratingColumn strong\") %>%\n",
        "  html_text()\n",
        "\n",
        "# Create a data frame with titles and ratings\n",
        "movies_df <- data.frame(Title = titles, Rating = ratings)\n",
        "\n",
        "# Print the data frame\n",
        "print(movies_df)"
      ],
      "metadata": {
        "colab": {
          "base_uri": "https://localhost:8080/"
        },
        "id": "dnsNgwpf1j-h",
        "outputId": "ddfea2eb-c9c7-4d66-8885-fda9532e2eb2"
      },
      "execution_count": 32,
      "outputs": [
        {
          "output_type": "stream",
          "name": "stdout",
          "text": [
            "[1] Title  Rating\n",
            "<0 rows> (or 0-length row.names)\n"
          ]
        }
      ]
    },
    {
      "cell_type": "code",
      "source": [],
      "metadata": {
        "id": "yXX-jh0u1qKR"
      },
      "execution_count": null,
      "outputs": []
    }
  ],
  "metadata": {
    "colab": {
      "provenance": []
    },
    "kernelspec": {
      "display_name": "R",
      "name": "ir"
    },
    "language_info": {
      "name": "R"
    }
  },
  "nbformat": 4,
  "nbformat_minor": 0
}