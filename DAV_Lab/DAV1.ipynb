{
  "nbformat": 4,
  "nbformat_minor": 0,
  "metadata": {
    "colab": {
      "provenance": []
    },
    "kernelspec": {
      "name": "ir",
      "display_name": "R"
    },
    "language_info": {
      "name": "R"
    }
  },
  "cells": [
    {
      "cell_type": "markdown",
      "source": [
        "# Data Analytics Visualization Experiment 1\n",
        "---"
      ],
      "metadata": {
        "id": "Loy9L7BggJDU"
      }
    },
    {
      "cell_type": "markdown",
      "source": [
        "**RIA KHETANI**\n",
        "\n",
        "**D11AD_34**"
      ],
      "metadata": {
        "id": "tuoqwlmuUx9u"
      }
    },
    {
      "cell_type": "markdown",
      "source": [
        "**AIM:** Getting introduced to data analytics libraries in Python and R.\n",
        "\n",
        "**OBJECTIVE:** Explore various data analytics Libraries in R and Python.\n",
        "\n"
      ],
      "metadata": {
        "id": "gDDID4jpUVOm"
      }
    },
    {
      "cell_type": "markdown",
      "source": [
        "# Tasks to be performed :\n",
        "\n",
        "---\n",
        "\n",
        "1. Explore Top-5 Data Analytics Libraries in Python (w.r.t Features & Applications).\n",
        "\n",
        "2. Explore Top-5 Data Analytics Libraries in R (w.r.t Features & Applications)\n",
        "\n",
        "3. Install 2 Libraries each for Python and R.\n",
        "\n",
        "4. Perform simple experiments on the 2 identified libraries each for Python and R\n",
        "\n",
        "5. Prepare a document with the Aim, Tasks performed, Program, Output, and Conclusion.\n",
        "\n",
        "\n",
        "\n",
        "\n"
      ],
      "metadata": {
        "id": "45FVxGbiXd1d"
      }
    },
    {
      "cell_type": "markdown",
      "source": [
        "**1.Explore Top-5 Data Analytics Libraries in Python (w.r.t Features & Applications)**\n",
        "\n",
        "---\n",
        "\n",
        "\n",
        "\n",
        "**1.NumPy**\n",
        "\n",
        "\n",
        "NumPy is the fundamental package for scientific computing in Python. It\n",
        "is a Python library that provides a multidimensional array object, various derived objects (such as masked arrays and matrices), and an assortment of routines for fast operations on arrays, including mathematical, logical, shape manipulation, sorting, selecting, I/O, discrete Fourier transforms, basic linear algebra, basic statistical operations, random simulation and much more.\n",
        "\n",
        "\n",
        "**2. Pandas**\n",
        "\n",
        "\n",
        "Pandas is a Python library used for working with data sets. It has functions for analyzing, cleaning, exploring, and manipulating data.The name \"Pandas\" has a reference to both \"Panel Data\", and \"Python Data Analysis\" and was created by Wes McKinney in 2008.\n",
        "\n",
        "\n",
        "**3. Scikit-learn**\n",
        "\n",
        "\n",
        "Scikit-learn (Sklearn) is the most useful and robust library for machine learning in Python. It provides a selection of efficient tools for machine learning and statistical modeling including classification, regression, clustering and dimensionality reduction via a consistence interface in Python. This library, which is largely written in Python, is built upon NumPy, SciPy and Matplotlib.\n",
        "\n",
        "\n",
        "**4. SciPy**\n",
        "\n",
        "\n",
        "The SciPy is an open-source scientific library of Python that is distributed under a BSD license. It is used to solve the complex scientific and mathematical problems. It is built on top of the Numpy extension, which means if we import the SciPy, there is no need to import Numpy. The SciPy library supports integration, gradient optimization, special functions, ordinary differential equation solvers, parallel programming tools, and many more.\n",
        "\n",
        "**5. Tensorflow**\n",
        "\n",
        "TensorFlow is an open-source machine learning library developed by Google. TensorFlow is used to build and train deep learning models as it facilitates the creation of computational graphs and efficient execution on various hardware platforms.TensorFlow is basically a software library for numerical computation using data flow graphs where:\n",
        "nodes in the graph represent mathematical operations.\n",
        "edges in the graph represent the multidimensional data arrays (called tensors) communicated between them."
      ],
      "metadata": {
        "id": "RcFfKKWFwnEW"
      }
    },
    {
      "cell_type": "markdown",
      "source": [
        "**Install any 2 libraries in Python**\n",
        "\n",
        "---"
      ],
      "metadata": {
        "id": "CHQdGQbLapJU"
      }
    },
    {
      "cell_type": "markdown",
      "source": [
        "**python**:"
      ],
      "metadata": {
        "id": "Qp4iuIi6gyXE"
      }
    },
    {
      "cell_type": "code",
      "source": [
        "!pip install pandas"
      ],
      "metadata": {
        "id": "Yxvri3LAcmUU"
      },
      "execution_count": null,
      "outputs": []
    },
    {
      "cell_type": "code",
      "source": [
        "!pip install numpy"
      ],
      "metadata": {
        "id": "5XDFJAc7fmcc"
      },
      "execution_count": null,
      "outputs": []
    },
    {
      "cell_type": "markdown",
      "source": [
        "**Performing experiments**\n",
        "\n",
        "---"
      ],
      "metadata": {
        "id": "pWyslAsdy5K_"
      }
    },
    {
      "cell_type": "code",
      "source": [
        "import pandas as pd\n",
        "\n",
        "\n",
        "# reading the database\n",
        "data = pd.read_csv(\"tips.csv\")\n",
        "\n",
        "# printing the top 10 rows\n",
        "display(data.head(10))\n"
      ],
      "metadata": {
        "colab": {
          "base_uri": "https://localhost:8080/",
          "height": 363
        },
        "id": "3g_42iC6ZWxE",
        "outputId": "8abb57d9-1ff6-42dd-96c1-385925dbf629"
      },
      "execution_count": null,
      "outputs": [
        {
          "output_type": "display_data",
          "data": {
            "text/plain": [
              "   total_bill   tip     sex smoker  day    time  size\n",
              "0       16.99  1.01  Female     No  Sun  Dinner     2\n",
              "1       10.34  1.66    Male     No  Sun  Dinner     3\n",
              "2       21.01  3.50    Male     No  Sun  Dinner     3\n",
              "3       23.68  3.31    Male     No  Sun  Dinner     2\n",
              "4       24.59  3.61  Female     No  Sun  Dinner     4\n",
              "5       25.29  4.71    Male     No  Sun  Dinner     4\n",
              "6        8.77  2.00    Male     No  Sun  Dinner     2\n",
              "7       26.88  3.12    Male     No  Sun  Dinner     4\n",
              "8       15.04  1.96    Male     No  Sun  Dinner     2\n",
              "9       14.78  3.23    Male     No  Sun  Dinner     2"
            ],
            "text/html": [
              "\n",
              "  <div id=\"df-850d817c-0b86-4754-b3b1-f7d18e3bac83\" class=\"colab-df-container\">\n",
              "    <div>\n",
              "<style scoped>\n",
              "    .dataframe tbody tr th:only-of-type {\n",
              "        vertical-align: middle;\n",
              "    }\n",
              "\n",
              "    .dataframe tbody tr th {\n",
              "        vertical-align: top;\n",
              "    }\n",
              "\n",
              "    .dataframe thead th {\n",
              "        text-align: right;\n",
              "    }\n",
              "</style>\n",
              "<table border=\"1\" class=\"dataframe\">\n",
              "  <thead>\n",
              "    <tr style=\"text-align: right;\">\n",
              "      <th></th>\n",
              "      <th>total_bill</th>\n",
              "      <th>tip</th>\n",
              "      <th>sex</th>\n",
              "      <th>smoker</th>\n",
              "      <th>day</th>\n",
              "      <th>time</th>\n",
              "      <th>size</th>\n",
              "    </tr>\n",
              "  </thead>\n",
              "  <tbody>\n",
              "    <tr>\n",
              "      <th>0</th>\n",
              "      <td>16.99</td>\n",
              "      <td>1.01</td>\n",
              "      <td>Female</td>\n",
              "      <td>No</td>\n",
              "      <td>Sun</td>\n",
              "      <td>Dinner</td>\n",
              "      <td>2</td>\n",
              "    </tr>\n",
              "    <tr>\n",
              "      <th>1</th>\n",
              "      <td>10.34</td>\n",
              "      <td>1.66</td>\n",
              "      <td>Male</td>\n",
              "      <td>No</td>\n",
              "      <td>Sun</td>\n",
              "      <td>Dinner</td>\n",
              "      <td>3</td>\n",
              "    </tr>\n",
              "    <tr>\n",
              "      <th>2</th>\n",
              "      <td>21.01</td>\n",
              "      <td>3.50</td>\n",
              "      <td>Male</td>\n",
              "      <td>No</td>\n",
              "      <td>Sun</td>\n",
              "      <td>Dinner</td>\n",
              "      <td>3</td>\n",
              "    </tr>\n",
              "    <tr>\n",
              "      <th>3</th>\n",
              "      <td>23.68</td>\n",
              "      <td>3.31</td>\n",
              "      <td>Male</td>\n",
              "      <td>No</td>\n",
              "      <td>Sun</td>\n",
              "      <td>Dinner</td>\n",
              "      <td>2</td>\n",
              "    </tr>\n",
              "    <tr>\n",
              "      <th>4</th>\n",
              "      <td>24.59</td>\n",
              "      <td>3.61</td>\n",
              "      <td>Female</td>\n",
              "      <td>No</td>\n",
              "      <td>Sun</td>\n",
              "      <td>Dinner</td>\n",
              "      <td>4</td>\n",
              "    </tr>\n",
              "    <tr>\n",
              "      <th>5</th>\n",
              "      <td>25.29</td>\n",
              "      <td>4.71</td>\n",
              "      <td>Male</td>\n",
              "      <td>No</td>\n",
              "      <td>Sun</td>\n",
              "      <td>Dinner</td>\n",
              "      <td>4</td>\n",
              "    </tr>\n",
              "    <tr>\n",
              "      <th>6</th>\n",
              "      <td>8.77</td>\n",
              "      <td>2.00</td>\n",
              "      <td>Male</td>\n",
              "      <td>No</td>\n",
              "      <td>Sun</td>\n",
              "      <td>Dinner</td>\n",
              "      <td>2</td>\n",
              "    </tr>\n",
              "    <tr>\n",
              "      <th>7</th>\n",
              "      <td>26.88</td>\n",
              "      <td>3.12</td>\n",
              "      <td>Male</td>\n",
              "      <td>No</td>\n",
              "      <td>Sun</td>\n",
              "      <td>Dinner</td>\n",
              "      <td>4</td>\n",
              "    </tr>\n",
              "    <tr>\n",
              "      <th>8</th>\n",
              "      <td>15.04</td>\n",
              "      <td>1.96</td>\n",
              "      <td>Male</td>\n",
              "      <td>No</td>\n",
              "      <td>Sun</td>\n",
              "      <td>Dinner</td>\n",
              "      <td>2</td>\n",
              "    </tr>\n",
              "    <tr>\n",
              "      <th>9</th>\n",
              "      <td>14.78</td>\n",
              "      <td>3.23</td>\n",
              "      <td>Male</td>\n",
              "      <td>No</td>\n",
              "      <td>Sun</td>\n",
              "      <td>Dinner</td>\n",
              "      <td>2</td>\n",
              "    </tr>\n",
              "  </tbody>\n",
              "</table>\n",
              "</div>\n",
              "    <div class=\"colab-df-buttons\">\n",
              "\n",
              "  <div class=\"colab-df-container\">\n",
              "    <button class=\"colab-df-convert\" onclick=\"convertToInteractive('df-850d817c-0b86-4754-b3b1-f7d18e3bac83')\"\n",
              "            title=\"Convert this dataframe to an interactive table.\"\n",
              "            style=\"display:none;\">\n",
              "\n",
              "  <svg xmlns=\"http://www.w3.org/2000/svg\" height=\"24px\" viewBox=\"0 -960 960 960\">\n",
              "    <path d=\"M120-120v-720h720v720H120Zm60-500h600v-160H180v160Zm220 220h160v-160H400v160Zm0 220h160v-160H400v160ZM180-400h160v-160H180v160Zm440 0h160v-160H620v160ZM180-180h160v-160H180v160Zm440 0h160v-160H620v160Z\"/>\n",
              "  </svg>\n",
              "    </button>\n",
              "\n",
              "  <style>\n",
              "    .colab-df-container {\n",
              "      display:flex;\n",
              "      gap: 12px;\n",
              "    }\n",
              "\n",
              "    .colab-df-convert {\n",
              "      background-color: #E8F0FE;\n",
              "      border: none;\n",
              "      border-radius: 50%;\n",
              "      cursor: pointer;\n",
              "      display: none;\n",
              "      fill: #1967D2;\n",
              "      height: 32px;\n",
              "      padding: 0 0 0 0;\n",
              "      width: 32px;\n",
              "    }\n",
              "\n",
              "    .colab-df-convert:hover {\n",
              "      background-color: #E2EBFA;\n",
              "      box-shadow: 0px 1px 2px rgba(60, 64, 67, 0.3), 0px 1px 3px 1px rgba(60, 64, 67, 0.15);\n",
              "      fill: #174EA6;\n",
              "    }\n",
              "\n",
              "    .colab-df-buttons div {\n",
              "      margin-bottom: 4px;\n",
              "    }\n",
              "\n",
              "    [theme=dark] .colab-df-convert {\n",
              "      background-color: #3B4455;\n",
              "      fill: #D2E3FC;\n",
              "    }\n",
              "\n",
              "    [theme=dark] .colab-df-convert:hover {\n",
              "      background-color: #434B5C;\n",
              "      box-shadow: 0px 1px 3px 1px rgba(0, 0, 0, 0.15);\n",
              "      filter: drop-shadow(0px 1px 2px rgba(0, 0, 0, 0.3));\n",
              "      fill: #FFFFFF;\n",
              "    }\n",
              "  </style>\n",
              "\n",
              "    <script>\n",
              "      const buttonEl =\n",
              "        document.querySelector('#df-850d817c-0b86-4754-b3b1-f7d18e3bac83 button.colab-df-convert');\n",
              "      buttonEl.style.display =\n",
              "        google.colab.kernel.accessAllowed ? 'block' : 'none';\n",
              "\n",
              "      async function convertToInteractive(key) {\n",
              "        const element = document.querySelector('#df-850d817c-0b86-4754-b3b1-f7d18e3bac83');\n",
              "        const dataTable =\n",
              "          await google.colab.kernel.invokeFunction('convertToInteractive',\n",
              "                                                    [key], {});\n",
              "        if (!dataTable) return;\n",
              "\n",
              "        const docLinkHtml = 'Like what you see? Visit the ' +\n",
              "          '<a target=\"_blank\" href=https://colab.research.google.com/notebooks/data_table.ipynb>data table notebook</a>'\n",
              "          + ' to learn more about interactive tables.';\n",
              "        element.innerHTML = '';\n",
              "        dataTable['output_type'] = 'display_data';\n",
              "        await google.colab.output.renderOutput(dataTable, element);\n",
              "        const docLink = document.createElement('div');\n",
              "        docLink.innerHTML = docLinkHtml;\n",
              "        element.appendChild(docLink);\n",
              "      }\n",
              "    </script>\n",
              "  </div>\n",
              "\n",
              "\n",
              "<div id=\"df-1d51f6a4-664d-44eb-bfc7-e36365aaa141\">\n",
              "  <button class=\"colab-df-quickchart\" onclick=\"quickchart('df-1d51f6a4-664d-44eb-bfc7-e36365aaa141')\"\n",
              "            title=\"Suggest charts\"\n",
              "            style=\"display:none;\">\n",
              "\n",
              "<svg xmlns=\"http://www.w3.org/2000/svg\" height=\"24px\"viewBox=\"0 0 24 24\"\n",
              "     width=\"24px\">\n",
              "    <g>\n",
              "        <path d=\"M19 3H5c-1.1 0-2 .9-2 2v14c0 1.1.9 2 2 2h14c1.1 0 2-.9 2-2V5c0-1.1-.9-2-2-2zM9 17H7v-7h2v7zm4 0h-2V7h2v10zm4 0h-2v-4h2v4z\"/>\n",
              "    </g>\n",
              "</svg>\n",
              "  </button>\n",
              "\n",
              "<style>\n",
              "  .colab-df-quickchart {\n",
              "      --bg-color: #E8F0FE;\n",
              "      --fill-color: #1967D2;\n",
              "      --hover-bg-color: #E2EBFA;\n",
              "      --hover-fill-color: #174EA6;\n",
              "      --disabled-fill-color: #AAA;\n",
              "      --disabled-bg-color: #DDD;\n",
              "  }\n",
              "\n",
              "  [theme=dark] .colab-df-quickchart {\n",
              "      --bg-color: #3B4455;\n",
              "      --fill-color: #D2E3FC;\n",
              "      --hover-bg-color: #434B5C;\n",
              "      --hover-fill-color: #FFFFFF;\n",
              "      --disabled-bg-color: #3B4455;\n",
              "      --disabled-fill-color: #666;\n",
              "  }\n",
              "\n",
              "  .colab-df-quickchart {\n",
              "    background-color: var(--bg-color);\n",
              "    border: none;\n",
              "    border-radius: 50%;\n",
              "    cursor: pointer;\n",
              "    display: none;\n",
              "    fill: var(--fill-color);\n",
              "    height: 32px;\n",
              "    padding: 0;\n",
              "    width: 32px;\n",
              "  }\n",
              "\n",
              "  .colab-df-quickchart:hover {\n",
              "    background-color: var(--hover-bg-color);\n",
              "    box-shadow: 0 1px 2px rgba(60, 64, 67, 0.3), 0 1px 3px 1px rgba(60, 64, 67, 0.15);\n",
              "    fill: var(--button-hover-fill-color);\n",
              "  }\n",
              "\n",
              "  .colab-df-quickchart-complete:disabled,\n",
              "  .colab-df-quickchart-complete:disabled:hover {\n",
              "    background-color: var(--disabled-bg-color);\n",
              "    fill: var(--disabled-fill-color);\n",
              "    box-shadow: none;\n",
              "  }\n",
              "\n",
              "  .colab-df-spinner {\n",
              "    border: 2px solid var(--fill-color);\n",
              "    border-color: transparent;\n",
              "    border-bottom-color: var(--fill-color);\n",
              "    animation:\n",
              "      spin 1s steps(1) infinite;\n",
              "  }\n",
              "\n",
              "  @keyframes spin {\n",
              "    0% {\n",
              "      border-color: transparent;\n",
              "      border-bottom-color: var(--fill-color);\n",
              "      border-left-color: var(--fill-color);\n",
              "    }\n",
              "    20% {\n",
              "      border-color: transparent;\n",
              "      border-left-color: var(--fill-color);\n",
              "      border-top-color: var(--fill-color);\n",
              "    }\n",
              "    30% {\n",
              "      border-color: transparent;\n",
              "      border-left-color: var(--fill-color);\n",
              "      border-top-color: var(--fill-color);\n",
              "      border-right-color: var(--fill-color);\n",
              "    }\n",
              "    40% {\n",
              "      border-color: transparent;\n",
              "      border-right-color: var(--fill-color);\n",
              "      border-top-color: var(--fill-color);\n",
              "    }\n",
              "    60% {\n",
              "      border-color: transparent;\n",
              "      border-right-color: var(--fill-color);\n",
              "    }\n",
              "    80% {\n",
              "      border-color: transparent;\n",
              "      border-right-color: var(--fill-color);\n",
              "      border-bottom-color: var(--fill-color);\n",
              "    }\n",
              "    90% {\n",
              "      border-color: transparent;\n",
              "      border-bottom-color: var(--fill-color);\n",
              "    }\n",
              "  }\n",
              "</style>\n",
              "\n",
              "  <script>\n",
              "    async function quickchart(key) {\n",
              "      const quickchartButtonEl =\n",
              "        document.querySelector('#' + key + ' button');\n",
              "      quickchartButtonEl.disabled = true;  // To prevent multiple clicks.\n",
              "      quickchartButtonEl.classList.add('colab-df-spinner');\n",
              "      try {\n",
              "        const charts = await google.colab.kernel.invokeFunction(\n",
              "            'suggestCharts', [key], {});\n",
              "      } catch (error) {\n",
              "        console.error('Error during call to suggestCharts:', error);\n",
              "      }\n",
              "      quickchartButtonEl.classList.remove('colab-df-spinner');\n",
              "      quickchartButtonEl.classList.add('colab-df-quickchart-complete');\n",
              "    }\n",
              "    (() => {\n",
              "      let quickchartButtonEl =\n",
              "        document.querySelector('#df-1d51f6a4-664d-44eb-bfc7-e36365aaa141 button');\n",
              "      quickchartButtonEl.style.display =\n",
              "        google.colab.kernel.accessAllowed ? 'block' : 'none';\n",
              "    })();\n",
              "  </script>\n",
              "</div>\n",
              "    </div>\n",
              "  </div>\n"
            ]
          },
          "metadata": {}
        }
      ]
    },
    {
      "cell_type": "code",
      "source": [
        "# Python program for\n",
        "# Creation of Arrays\n",
        "import numpy as np\n",
        "\n",
        "# Creating a rank 1 Array\n",
        "arr = np.array([1, 2, 3])\n",
        "print(\"Array with Rank 1: \\n\",arr)\n",
        "\n",
        "# Creating a rank 2 Array\n",
        "arr = np.array([[1, 2, 3],\n",
        "                [4, 5, 6]])\n",
        "print(\"Array with Rank 2: \\n\", arr)\n",
        "\n",
        "# Creating an array from tuple\n",
        "arr = np.array((1, 3, 2))\n",
        "print(\"\\nArray created using \"\n",
        "      \"passed tuple:\\n\", arr)"
      ],
      "metadata": {
        "colab": {
          "base_uri": "https://localhost:8080/"
        },
        "id": "TH6FMPxNZ1kd",
        "outputId": "709e90a2-082c-4a6f-960a-09a9d6ca9b44"
      },
      "execution_count": null,
      "outputs": [
        {
          "output_type": "stream",
          "name": "stdout",
          "text": [
            "Array with Rank 1: \n",
            " [1 2 3]\n",
            "Array with Rank 2: \n",
            " [[1 2 3]\n",
            " [4 5 6]]\n",
            "\n",
            "Array created using passed tuple:\n",
            " [1 3 2]\n"
          ]
        }
      ]
    },
    {
      "cell_type": "markdown",
      "source": [
        "**Explore Top-5 Data Analytics Libraries in R (w.r.t Features & Applications)**\n",
        "\n",
        "---\n",
        "\n",
        "**1. dplyr**\n",
        "\n",
        "The dplyr is a powerful R-package to manipulate, clean and summarize unstructured data. In short, it makes data exploration and data manipulation easy and fast in R.The package \"dplyr\" comprises many functions that perform mostly used data manipulation operations such as applying filter, selecting specific columns, sorting data, adding or deleting columns and aggregating data. Another most important advantage of this package is that it's very easy to learn and use dplyr functions.\n",
        "\n",
        "**2. stringr**\n",
        "\n",
        "The stringr package provides a cohesive set of functions designed to make working with strings as easy as possible. stringr is built on top of stringi, which uses the ICU C library to provide fast, correct implementations of common string manipulations. stringr focusses on the most important and commonly used string manipulation functions whereas stringi provides a comprehensive set covering almost anything and everything.\n",
        "\n",
        "**3. readr**\n",
        "\n",
        "The readr package in R, part of the tidyverse, is designed to simplify and streamline the process of reading and importing structured text data. Its philosophy centers around consistency, simplicity, and efficiency. By adhering to these principles, readr aims to provide a user-friendly experience for handling data.One of the key features is the consistent and straightforward interface across its functions. This uniformity makes it easier for users to remember and apply the various functions within the package.\n",
        "\n",
        "**4. ggplot2**\n",
        "\n",
        "ggplot2 in R is a versatile data visualization package that operates on the grammar of graphics principles. Developed by Hadley Wickham, it simplifies the creation of complex visualizations by breaking down graphics into fundamental components. The layered approach allows users to build up plots by adding components incrementally. Aesthetic mappings play a crucial role, defining how variables are represented visually. For instance, one can map data variables to plot aesthetics such as color, size, or shape. With a rich set of geoms (geometric objects) and statistical transformations, ggplot2 facilitates the creation of diverse and informative visualizations. Its theming system provides flexibility for customization, enabling users to adapt the appearance of plots to their specific needs.\n",
        "\n",
        "**5. tseries**\n",
        "\n",
        "The lubridate package in R is a powerful and user-friendly library for handling date and time data. It simplifies the often complex and error-prone process of working with dates by providing intuitive functions that facilitate parsing, manipulation, and formatting of date-time objects. Developed by Hadley Wickham, lubridate builds on R's base date and time functions, offering a consistent and convenient interface for tasks such as extracting components (e.g., year, month, day), arithmetic operations, and handling time zones. One of its key features is the ability to handle both date and time information seamlessly, making it well-suited for various data analysis and visualization tasks where accurate temporal information is crucial. The package has gained popularity in the R community for its simplicity, versatility, and efficiency in handling temporal data, making it an essential tool for users working with time series, financial data, and other applications involving dates and times."
      ],
      "metadata": {
        "id": "bpUWAhyTwm3G"
      }
    },
    {
      "cell_type": "markdown",
      "source": [
        "**Installing any two packages from R**:\n",
        "\n",
        "---"
      ],
      "metadata": {
        "id": "aaj8v2gfg1vd"
      }
    },
    {
      "cell_type": "code",
      "source": [
        "install.packages(\"dplyr\")"
      ],
      "metadata": {
        "id": "2u7VVgkSihjV"
      },
      "execution_count": null,
      "outputs": []
    },
    {
      "cell_type": "code",
      "source": [
        "install.packages(\"tidyverse\")"
      ],
      "metadata": {
        "id": "_jQYkN1rihpE"
      },
      "execution_count": null,
      "outputs": []
    },
    {
      "cell_type": "markdown",
      "source": [
        "**Performing Experiments**\n",
        "\n",
        "---"
      ],
      "metadata": {
        "id": "zbbybMJazI2K"
      }
    },
    {
      "cell_type": "code",
      "source": [
        "library(dplyr)\n"
      ],
      "metadata": {
        "id": "XYI-xQ1yjgZF"
      },
      "execution_count": null,
      "outputs": []
    },
    {
      "cell_type": "code",
      "source": [
        "library(readr)\n"
      ],
      "metadata": {
        "id": "brmNizYjkdl1"
      },
      "execution_count": null,
      "outputs": []
    },
    {
      "cell_type": "code",
      "source": [
        "mydata = read.csv(\"sampledata.csv\")\n"
      ],
      "metadata": {
        "id": "Nv-zDxh8jDs_"
      },
      "execution_count": null,
      "outputs": []
    },
    {
      "cell_type": "code",
      "source": [
        "sample_n(mydata,3)\n"
      ],
      "metadata": {
        "colab": {
          "base_uri": "https://localhost:8080/",
          "height": 192
        },
        "id": "k46u8aZ8jTGU",
        "outputId": "fcb0a169-e957-41d0-9b73-2340b6efee2b"
      },
      "execution_count": null,
      "outputs": [
        {
          "output_type": "display_data",
          "data": {
            "text/html": [
              "<table class=\"dataframe\">\n",
              "<caption>A data.frame: 3 × 16</caption>\n",
              "<thead>\n",
              "\t<tr><th scope=col>Index</th><th scope=col>State</th><th scope=col>Y2002</th><th scope=col>Y2003</th><th scope=col>Y2004</th><th scope=col>Y2005</th><th scope=col>Y2006</th><th scope=col>Y2007</th><th scope=col>Y2008</th><th scope=col>Y2009</th><th scope=col>Y2010</th><th scope=col>Y2011</th><th scope=col>Y2012</th><th scope=col>Y2013</th><th scope=col>Y2014</th><th scope=col>Y2015</th></tr>\n",
              "\t<tr><th scope=col>&lt;chr&gt;</th><th scope=col>&lt;chr&gt;</th><th scope=col>&lt;int&gt;</th><th scope=col>&lt;int&gt;</th><th scope=col>&lt;int&gt;</th><th scope=col>&lt;int&gt;</th><th scope=col>&lt;int&gt;</th><th scope=col>&lt;int&gt;</th><th scope=col>&lt;int&gt;</th><th scope=col>&lt;int&gt;</th><th scope=col>&lt;int&gt;</th><th scope=col>&lt;int&gt;</th><th scope=col>&lt;int&gt;</th><th scope=col>&lt;int&gt;</th><th scope=col>&lt;int&gt;</th><th scope=col>&lt;int&gt;</th></tr>\n",
              "</thead>\n",
              "<tbody>\n",
              "\t<tr><td>I</td><td>Idaho     </td><td>1353210</td><td>1438538</td><td>1739154</td><td>1541015</td><td>1122387</td><td>1772050</td><td>1335481</td><td>1748608</td><td>1436809</td><td>1456340</td><td>1643855</td><td>1312561</td><td>1713718</td><td>1757171</td></tr>\n",
              "\t<tr><td>C</td><td>California</td><td>1685349</td><td>1675807</td><td>1889570</td><td>1480280</td><td>1735069</td><td>1812546</td><td>1487315</td><td>1663809</td><td>1624509</td><td>1639670</td><td>1921845</td><td>1156536</td><td>1388461</td><td>1644607</td></tr>\n",
              "\t<tr><td>M</td><td>Missouri  </td><td>1221316</td><td>1858368</td><td>1773451</td><td>1573967</td><td>1374863</td><td>1486197</td><td>1735099</td><td>1800620</td><td>1164202</td><td>1425363</td><td>1800052</td><td>1698105</td><td>1767835</td><td>1996005</td></tr>\n",
              "</tbody>\n",
              "</table>\n"
            ],
            "text/markdown": "\nA data.frame: 3 × 16\n\n| Index &lt;chr&gt; | State &lt;chr&gt; | Y2002 &lt;int&gt; | Y2003 &lt;int&gt; | Y2004 &lt;int&gt; | Y2005 &lt;int&gt; | Y2006 &lt;int&gt; | Y2007 &lt;int&gt; | Y2008 &lt;int&gt; | Y2009 &lt;int&gt; | Y2010 &lt;int&gt; | Y2011 &lt;int&gt; | Y2012 &lt;int&gt; | Y2013 &lt;int&gt; | Y2014 &lt;int&gt; | Y2015 &lt;int&gt; |\n|---|---|---|---|---|---|---|---|---|---|---|---|---|---|---|---|\n| I | Idaho      | 1353210 | 1438538 | 1739154 | 1541015 | 1122387 | 1772050 | 1335481 | 1748608 | 1436809 | 1456340 | 1643855 | 1312561 | 1713718 | 1757171 |\n| C | California | 1685349 | 1675807 | 1889570 | 1480280 | 1735069 | 1812546 | 1487315 | 1663809 | 1624509 | 1639670 | 1921845 | 1156536 | 1388461 | 1644607 |\n| M | Missouri   | 1221316 | 1858368 | 1773451 | 1573967 | 1374863 | 1486197 | 1735099 | 1800620 | 1164202 | 1425363 | 1800052 | 1698105 | 1767835 | 1996005 |\n\n",
            "text/latex": "A data.frame: 3 × 16\n\\begin{tabular}{llllllllllllllll}\n Index & State & Y2002 & Y2003 & Y2004 & Y2005 & Y2006 & Y2007 & Y2008 & Y2009 & Y2010 & Y2011 & Y2012 & Y2013 & Y2014 & Y2015\\\\\n <chr> & <chr> & <int> & <int> & <int> & <int> & <int> & <int> & <int> & <int> & <int> & <int> & <int> & <int> & <int> & <int>\\\\\n\\hline\n\t I & Idaho      & 1353210 & 1438538 & 1739154 & 1541015 & 1122387 & 1772050 & 1335481 & 1748608 & 1436809 & 1456340 & 1643855 & 1312561 & 1713718 & 1757171\\\\\n\t C & California & 1685349 & 1675807 & 1889570 & 1480280 & 1735069 & 1812546 & 1487315 & 1663809 & 1624509 & 1639670 & 1921845 & 1156536 & 1388461 & 1644607\\\\\n\t M & Missouri   & 1221316 & 1858368 & 1773451 & 1573967 & 1374863 & 1486197 & 1735099 & 1800620 & 1164202 & 1425363 & 1800052 & 1698105 & 1767835 & 1996005\\\\\n\\end{tabular}\n",
            "text/plain": [
              "  Index State      Y2002   Y2003   Y2004   Y2005   Y2006   Y2007   Y2008  \n",
              "1 I     Idaho      1353210 1438538 1739154 1541015 1122387 1772050 1335481\n",
              "2 C     California 1685349 1675807 1889570 1480280 1735069 1812546 1487315\n",
              "3 M     Missouri   1221316 1858368 1773451 1573967 1374863 1486197 1735099\n",
              "  Y2009   Y2010   Y2011   Y2012   Y2013   Y2014   Y2015  \n",
              "1 1748608 1436809 1456340 1643855 1312561 1713718 1757171\n",
              "2 1663809 1624509 1639670 1921845 1156536 1388461 1644607\n",
              "3 1800620 1164202 1425363 1800052 1698105 1767835 1996005"
            ]
          },
          "metadata": {}
        }
      ]
    },
    {
      "cell_type": "code",
      "source": [
        "mydata7 = filter(mydata, Index == \"A\")\n",
        "print(mydata7)"
      ],
      "metadata": {
        "colab": {
          "base_uri": "https://localhost:8080/"
        },
        "id": "D4ZWj9K-jqfU",
        "outputId": "a39b25d9-bf9c-49f0-a3b9-0496b9e8ea3c"
      },
      "execution_count": null,
      "outputs": [
        {
          "output_type": "stream",
          "name": "stdout",
          "text": [
            "  Index    State   Y2002   Y2003   Y2004   Y2005   Y2006   Y2007   Y2008\n",
            "1     A  Alabama 1296530 1317711 1118631 1492583 1107408 1440134 1945229\n",
            "2     A   Alaska 1170302 1960378 1818085 1447852 1861639 1465841 1551826\n",
            "3     A  Arizona 1742027 1968140 1377583 1782199 1102568 1109382 1752886\n",
            "4     A Arkansas 1485531 1994927 1119299 1947979 1669191 1801213 1188104\n",
            "    Y2009   Y2010   Y2011   Y2012   Y2013   Y2014   Y2015\n",
            "1 1944173 1237582 1440756 1186741 1852841 1558906 1916661\n",
            "2 1436541 1629616 1230866 1512804 1985302 1580394 1979143\n",
            "3 1554330 1300521 1130709 1907284 1363279 1525866 1647724\n",
            "4 1628980 1669295 1928238 1216675 1591896 1360959 1329341\n"
          ]
        }
      ]
    },
    {
      "cell_type": "code",
      "source": [
        "mydata1 = read.csv(\"sampledata.csv\")\n",
        "print(mydata1)"
      ],
      "metadata": {
        "colab": {
          "base_uri": "https://localhost:8080/"
        },
        "id": "ZhjnMIMNmcr0",
        "outputId": "9f314f24-50e7-4503-e12d-b4295772a43d"
      },
      "execution_count": null,
      "outputs": [
        {
          "output_type": "stream",
          "name": "stdout",
          "text": [
            "   Index                State   Y2002   Y2003   Y2004   Y2005   Y2006   Y2007\n",
            "1      A              Alabama 1296530 1317711 1118631 1492583 1107408 1440134\n",
            "2      A               Alaska 1170302 1960378 1818085 1447852 1861639 1465841\n",
            "3      A              Arizona 1742027 1968140 1377583 1782199 1102568 1109382\n",
            "4      A             Arkansas 1485531 1994927 1119299 1947979 1669191 1801213\n",
            "5      C           California 1685349 1675807 1889570 1480280 1735069 1812546\n",
            "6      C             Colorado 1343824 1878473 1886149 1236697 1871471 1814218\n",
            "7      C          Connecticut 1610512 1232844 1181949 1518933 1841266 1976976\n",
            "8      D             Delaware 1330403 1268673 1706751 1403759 1441351 1300836\n",
            "9      D District of Columbia 1111437 1993741 1374643 1827949 1803852 1595981\n",
            "10     F              Florida 1964626 1468852 1419738 1362787 1339608 1278550\n",
            "11     G              Georgia 1929009 1541565 1810773 1779091 1326846 1223770\n",
            "12     H               Hawaii 1461570 1200280 1213993 1245931 1459383 1430465\n",
            "13     I                Idaho 1353210 1438538 1739154 1541015 1122387 1772050\n",
            "14     I             Illinois 1508356 1527440 1493029 1261353 1540274 1747614\n",
            "15     I              Indiana 1776918 1734104 1269927 1204117 1848073 1129546\n",
            "16     I                 Iowa 1499269 1444576 1576367 1388924 1554813 1452911\n",
            "17     K               Kansas 1509054 1290700 1522230 1532094 1104256 1863278\n",
            "18     K             Kentucky 1813878 1448846 1800760 1250524 1137913 1911227\n",
            "19     L            Louisiana 1584734 1110625 1868456 1751920 1233709 1920301\n",
            "20     M                Maine 1582720 1678622 1208496 1912040 1438549 1330014\n",
            "21     M             Maryland 1579713 1404700 1849798 1397738 1310270 1789128\n",
            "22     M        Massachusetts 1647582 1686259 1620601 1777250 1531641 1380529\n",
            "23     M             Michigan 1295635 1149931 1601027 1340716 1729449 1567494\n",
            "24     M            Minnesota 1729921 1675204 1903907 1561839 1985692 1148621\n",
            "25     M          Mississippi 1983285 1292558 1631325 1943311 1354579 1731643\n",
            "26     M             Missouri 1221316 1858368 1773451 1573967 1374863 1486197\n",
            "27     M              Montana 1877154 1540099 1332722 1273327 1625721 1983568\n",
            "28     N             Nebraska 1885081 1309769 1425527 1240465 1500594 1278272\n",
            "29     N               Nevada 1426117 1114500 1119707 1758830 1694526 1765826\n",
            "30     N        New Hampshire 1419776 1854370 1195119 1990062 1645430 1286967\n",
            "31     N           New Jersey 1605532 1141514 1613550 1181452 1541327 1156804\n",
            "32     N           New Mexico 1819239 1226057 1935991 1124400 1723493 1475985\n",
            "33     N             New York 1395149 1611371 1170675 1446810 1426941 1463171\n",
            "34     N       North Carolina 1616742 1292223 1482792 1532347 1158716 1827420\n",
            "35     N         North Dakota 1618807 1510193 1876940 1443172 1425030 1868788\n",
            "36     O                 Ohio 1802132 1648498 1441386 1670280 1534888 1314824\n",
            "37     O             Oklahoma 1173918 1334639 1663622 1798714 1312574 1708245\n",
            "38     O               Oregon 1794912 1726665 1805445 1133510 1502242 1419251\n",
            "39     P         Pennsylvania 1320191 1446723 1218591 1122030 1971479 1563062\n",
            "40     R         Rhode Island 1501744 1942942 1266657 1961923 1835983 1234040\n",
            "41     S       South Carolina 1631522 1803455 1425193 1458191 1538731 1825195\n",
            "42     S         South Dakota 1159037 1150689 1660148 1417141 1418586 1279134\n",
            "43     T            Tennessee 1811867 1485909 1974179 1157059 1786132 1399191\n",
            "44     T                Texas 1520591 1310777 1957713 1907326 1873544 1655483\n",
            "45     U                 Utah 1771096 1195861 1979395 1241662 1437456 1859416\n",
            "46     V              Vermont 1146902 1832249 1492704 1579265 1332048 1563537\n",
            "47     V             Virginia 1134317 1163996 1891068 1853855 1708715 1197698\n",
            "48     W           Washington 1977749 1687136 1199490 1163092 1334864 1621989\n",
            "49     W        West Virginia 1677347 1380662 1176100 1888948 1922085 1740826\n",
            "50     W            Wisconsin 1788920 1518578 1289663 1436888 1251678 1721874\n",
            "51     W              Wyoming 1775190 1498098 1198212 1881688 1750527 1523124\n",
            "     Y2008   Y2009   Y2010   Y2011   Y2012   Y2013   Y2014   Y2015\n",
            "1  1945229 1944173 1237582 1440756 1186741 1852841 1558906 1916661\n",
            "2  1551826 1436541 1629616 1230866 1512804 1985302 1580394 1979143\n",
            "3  1752886 1554330 1300521 1130709 1907284 1363279 1525866 1647724\n",
            "4  1188104 1628980 1669295 1928238 1216675 1591896 1360959 1329341\n",
            "5  1487315 1663809 1624509 1639670 1921845 1156536 1388461 1644607\n",
            "6  1875146 1752387 1913275 1665877 1491604 1178355 1383978 1330736\n",
            "7  1764457 1972730 1968730 1945524 1228529 1582249 1503156 1718072\n",
            "8  1762096 1553585 1370984 1318669 1984027 1671279 1803169 1627508\n",
            "9  1193245 1739748 1707823 1353449 1979708 1912654 1782169 1410183\n",
            "10 1756185 1818438 1198403 1497051 1131928 1107448 1407784 1170389\n",
            "11 1773090 1630325 1145473 1851245 1850111 1887157 1259353 1725470\n",
            "12 1919423 1928416 1330509 1902816 1695126 1517184 1948108 1150882\n",
            "13 1335481 1748608 1436809 1456340 1643855 1312561 1713718 1757171\n",
            "14 1871645 1658551 1422021 1751422 1696729 1915435 1645465 1583516\n",
            "15 1139551 1883976 1999102 1559924 1905760 1129794 1988394 1467614\n",
            "16 1317983 1150783 1751389 1992996 1501879 1173694 1431705 1641866\n",
            "17 1949478 1561528 1550433 1465812 1882929 1410249 1930090 1385528\n",
            "18 1301848 1956681 1350895 1512894 1916616 1878271 1722762 1913350\n",
            "19 1185085 1124853 1498662 1210385 1234234 1287663 1908602 1403857\n",
            "20 1295877 1969163 1627262 1706080 1437088 1318546 1116792 1529233\n",
            "21 1112765 1967225 1486246 1872327 1175819 1314343 1979529 1569566\n",
            "22 1978904 1567651 1761048 1658538 1482203 1731917 1669749 1963337\n",
            "23 1990431 1575185 1267626 1274673 1709853 1815596 1965196 1646634\n",
            "24 1328133 1890633 1995304 1575533 1910216 1972021 1515366 1864553\n",
            "25 1428291 1568049 1383227 1629132 1988270 1907777 1649668 1991232\n",
            "26 1735099 1800620 1164202 1425363 1800052 1698105 1767835 1996005\n",
            "27 1251742 1592690 1350619 1520064 1185225 1465705 1110394 1125903\n",
            "28 1140598 1270585 1128711 1187207 1569665 1690920 1459243 1802211\n",
            "29 1903270 1231480 1526066 1143343 1980195 1283813 1225348 1903804\n",
            "30 1762936 1763211 1265642 1704297 1131298 1197576 1242623 1963313\n",
            "31 1568034 1357418 1443718 1390010 1202326 1100990 1850165 1183568\n",
            "32 1237704 1820856 1801430 1653384 1475715 1623388 1533494 1868612\n",
            "33 1732098 1426216 1604531 1683687 1500089 1718837 1619033 1367705\n",
            "34 1267737 1116168 1791535 1553750 1472258 1104893 1596452 1229085\n",
            "35 1720352 1671468 1534571 1271132 1430978 1529024 1563898 1604118\n",
            "36 1516621 1511460 1585465 1887714 1227303 1840898 1880804 1573117\n",
            "37 1256746 1853142 1673831 1822933 1674707 1900523 1956742 1307678\n",
            "38 1482786 1862351 1103794 1935687 1905378 1522129 1509171 1893515\n",
            "39 1274168 1571032 1433835 1483292 1290329 1475344 1931500 1668232\n",
            "40 1151409 1993136 1983569 1781016 1909119 1531212 1990412 1611730\n",
            "41 1250499 1864685 1345102 1116203 1532332 1591735 1188417 1110655\n",
            "42 1171870 1852424 1554782 1647245 1811156 1147488 1302834 1136443\n",
            "43 1826406 1326460 1231739 1469785 1849041 1560887 1349173 1162164\n",
            "44 1785986 1827503 1447457 1978374 1882532 1698698 1646508 1705322\n",
            "45 1939284 1915865 1619186 1288285 1108281 1123353 1801019 1729273\n",
            "46 1123567 1618583 1326369 1792600 1714960 1146278 1282790 1565924\n",
            "47 1803330 1590043 1516758 1171686 1262342 1647032 1706707 1850394\n",
            "48 1545621 1555554 1179331 1150089 1775787 1273834 1387428 1377341\n",
            "49 1238174 1539322 1539603 1872519 1462137 1683127 1204344 1198791\n",
            "50 1980167 1901394 1648755 1940943 1729177 1510119 1701650 1846238\n",
            "51 1587602 1504455 1282142 1881814 1673668 1994022 1204029 1853858\n"
          ]
        }
      ]
    },
    {
      "cell_type": "code",
      "source": [
        "read_delim(\"sampledata.csv\",  skip = 45)"
      ],
      "metadata": {
        "colab": {
          "base_uri": "https://localhost:8080/",
          "height": 425
        },
        "id": "unQOnqk8oIKr",
        "outputId": "0cdb0a6b-519b-4c21-e365-e7858612e43e"
      },
      "execution_count": null,
      "outputs": [
        {
          "output_type": "stream",
          "name": "stderr",
          "text": [
            "\u001b[1mRows: \u001b[22m\u001b[34m6\u001b[39m \u001b[1mColumns: \u001b[22m\u001b[34m16\u001b[39m\n",
            "\u001b[36m──\u001b[39m \u001b[1mColumn specification\u001b[22m \u001b[36m────────────────────────────────────────────────────────\u001b[39m\n",
            "\u001b[1mDelimiter:\u001b[22m \",\"\n",
            "\u001b[31mchr\u001b[39m  (2): U, Utah\n",
            "\u001b[32mdbl\u001b[39m (14): 1771096, 1195861, 1979395, 1241662, 1437456, 1859416, 1939284, 191...\n",
            "\n",
            "\u001b[36mℹ\u001b[39m Use `spec()` to retrieve the full column specification for this data.\n",
            "\u001b[36mℹ\u001b[39m Specify the column types or set `show_col_types = FALSE` to quiet this message.\n"
          ]
        },
        {
          "output_type": "display_data",
          "data": {
            "text/html": [
              "<table class=\"dataframe\">\n",
              "<caption>A spec_tbl_df: 6 × 16</caption>\n",
              "<thead>\n",
              "\t<tr><th scope=col>U</th><th scope=col>Utah</th><th scope=col>1771096</th><th scope=col>1195861</th><th scope=col>1979395</th><th scope=col>1241662</th><th scope=col>1437456</th><th scope=col>1859416</th><th scope=col>1939284</th><th scope=col>1915865</th><th scope=col>1619186</th><th scope=col>1288285</th><th scope=col>1108281</th><th scope=col>1123353</th><th scope=col>1801019</th><th scope=col>1729273</th></tr>\n",
              "\t<tr><th scope=col>&lt;chr&gt;</th><th scope=col>&lt;chr&gt;</th><th scope=col>&lt;dbl&gt;</th><th scope=col>&lt;dbl&gt;</th><th scope=col>&lt;dbl&gt;</th><th scope=col>&lt;dbl&gt;</th><th scope=col>&lt;dbl&gt;</th><th scope=col>&lt;dbl&gt;</th><th scope=col>&lt;dbl&gt;</th><th scope=col>&lt;dbl&gt;</th><th scope=col>&lt;dbl&gt;</th><th scope=col>&lt;dbl&gt;</th><th scope=col>&lt;dbl&gt;</th><th scope=col>&lt;dbl&gt;</th><th scope=col>&lt;dbl&gt;</th><th scope=col>&lt;dbl&gt;</th></tr>\n",
              "</thead>\n",
              "<tbody>\n",
              "\t<tr><td>V</td><td>Vermont      </td><td>1146902</td><td>1832249</td><td>1492704</td><td>1579265</td><td>1332048</td><td>1563537</td><td>1123567</td><td>1618583</td><td>1326369</td><td>1792600</td><td>1714960</td><td>1146278</td><td>1282790</td><td>1565924</td></tr>\n",
              "\t<tr><td>V</td><td>Virginia     </td><td>1134317</td><td>1163996</td><td>1891068</td><td>1853855</td><td>1708715</td><td>1197698</td><td>1803330</td><td>1590043</td><td>1516758</td><td>1171686</td><td>1262342</td><td>1647032</td><td>1706707</td><td>1850394</td></tr>\n",
              "\t<tr><td>W</td><td>Washington   </td><td>1977749</td><td>1687136</td><td>1199490</td><td>1163092</td><td>1334864</td><td>1621989</td><td>1545621</td><td>1555554</td><td>1179331</td><td>1150089</td><td>1775787</td><td>1273834</td><td>1387428</td><td>1377341</td></tr>\n",
              "\t<tr><td>W</td><td>West Virginia</td><td>1677347</td><td>1380662</td><td>1176100</td><td>1888948</td><td>1922085</td><td>1740826</td><td>1238174</td><td>1539322</td><td>1539603</td><td>1872519</td><td>1462137</td><td>1683127</td><td>1204344</td><td>1198791</td></tr>\n",
              "\t<tr><td>W</td><td>Wisconsin    </td><td>1788920</td><td>1518578</td><td>1289663</td><td>1436888</td><td>1251678</td><td>1721874</td><td>1980167</td><td>1901394</td><td>1648755</td><td>1940943</td><td>1729177</td><td>1510119</td><td>1701650</td><td>1846238</td></tr>\n",
              "\t<tr><td>W</td><td>Wyoming      </td><td>1775190</td><td>1498098</td><td>1198212</td><td>1881688</td><td>1750527</td><td>1523124</td><td>1587602</td><td>1504455</td><td>1282142</td><td>1881814</td><td>1673668</td><td>1994022</td><td>1204029</td><td>1853858</td></tr>\n",
              "</tbody>\n",
              "</table>\n"
            ],
            "text/markdown": "\nA spec_tbl_df: 6 × 16\n\n| U &lt;chr&gt; | Utah &lt;chr&gt; | 1771096 &lt;dbl&gt; | 1195861 &lt;dbl&gt; | 1979395 &lt;dbl&gt; | 1241662 &lt;dbl&gt; | 1437456 &lt;dbl&gt; | 1859416 &lt;dbl&gt; | 1939284 &lt;dbl&gt; | 1915865 &lt;dbl&gt; | 1619186 &lt;dbl&gt; | 1288285 &lt;dbl&gt; | 1108281 &lt;dbl&gt; | 1123353 &lt;dbl&gt; | 1801019 &lt;dbl&gt; | 1729273 &lt;dbl&gt; |\n|---|---|---|---|---|---|---|---|---|---|---|---|---|---|---|---|\n| V | Vermont       | 1146902 | 1832249 | 1492704 | 1579265 | 1332048 | 1563537 | 1123567 | 1618583 | 1326369 | 1792600 | 1714960 | 1146278 | 1282790 | 1565924 |\n| V | Virginia      | 1134317 | 1163996 | 1891068 | 1853855 | 1708715 | 1197698 | 1803330 | 1590043 | 1516758 | 1171686 | 1262342 | 1647032 | 1706707 | 1850394 |\n| W | Washington    | 1977749 | 1687136 | 1199490 | 1163092 | 1334864 | 1621989 | 1545621 | 1555554 | 1179331 | 1150089 | 1775787 | 1273834 | 1387428 | 1377341 |\n| W | West Virginia | 1677347 | 1380662 | 1176100 | 1888948 | 1922085 | 1740826 | 1238174 | 1539322 | 1539603 | 1872519 | 1462137 | 1683127 | 1204344 | 1198791 |\n| W | Wisconsin     | 1788920 | 1518578 | 1289663 | 1436888 | 1251678 | 1721874 | 1980167 | 1901394 | 1648755 | 1940943 | 1729177 | 1510119 | 1701650 | 1846238 |\n| W | Wyoming       | 1775190 | 1498098 | 1198212 | 1881688 | 1750527 | 1523124 | 1587602 | 1504455 | 1282142 | 1881814 | 1673668 | 1994022 | 1204029 | 1853858 |\n\n",
            "text/latex": "A spec\\_tbl\\_df: 6 × 16\n\\begin{tabular}{llllllllllllllll}\n U & Utah & 1771096 & 1195861 & 1979395 & 1241662 & 1437456 & 1859416 & 1939284 & 1915865 & 1619186 & 1288285 & 1108281 & 1123353 & 1801019 & 1729273\\\\\n <chr> & <chr> & <dbl> & <dbl> & <dbl> & <dbl> & <dbl> & <dbl> & <dbl> & <dbl> & <dbl> & <dbl> & <dbl> & <dbl> & <dbl> & <dbl>\\\\\n\\hline\n\t V & Vermont       & 1146902 & 1832249 & 1492704 & 1579265 & 1332048 & 1563537 & 1123567 & 1618583 & 1326369 & 1792600 & 1714960 & 1146278 & 1282790 & 1565924\\\\\n\t V & Virginia      & 1134317 & 1163996 & 1891068 & 1853855 & 1708715 & 1197698 & 1803330 & 1590043 & 1516758 & 1171686 & 1262342 & 1647032 & 1706707 & 1850394\\\\\n\t W & Washington    & 1977749 & 1687136 & 1199490 & 1163092 & 1334864 & 1621989 & 1545621 & 1555554 & 1179331 & 1150089 & 1775787 & 1273834 & 1387428 & 1377341\\\\\n\t W & West Virginia & 1677347 & 1380662 & 1176100 & 1888948 & 1922085 & 1740826 & 1238174 & 1539322 & 1539603 & 1872519 & 1462137 & 1683127 & 1204344 & 1198791\\\\\n\t W & Wisconsin     & 1788920 & 1518578 & 1289663 & 1436888 & 1251678 & 1721874 & 1980167 & 1901394 & 1648755 & 1940943 & 1729177 & 1510119 & 1701650 & 1846238\\\\\n\t W & Wyoming       & 1775190 & 1498098 & 1198212 & 1881688 & 1750527 & 1523124 & 1587602 & 1504455 & 1282142 & 1881814 & 1673668 & 1994022 & 1204029 & 1853858\\\\\n\\end{tabular}\n",
            "text/plain": [
              "  U Utah          1771096 1195861 1979395 1241662 1437456 1859416 1939284\n",
              "1 V Vermont       1146902 1832249 1492704 1579265 1332048 1563537 1123567\n",
              "2 V Virginia      1134317 1163996 1891068 1853855 1708715 1197698 1803330\n",
              "3 W Washington    1977749 1687136 1199490 1163092 1334864 1621989 1545621\n",
              "4 W West Virginia 1677347 1380662 1176100 1888948 1922085 1740826 1238174\n",
              "5 W Wisconsin     1788920 1518578 1289663 1436888 1251678 1721874 1980167\n",
              "6 W Wyoming       1775190 1498098 1198212 1881688 1750527 1523124 1587602\n",
              "  1915865 1619186 1288285 1108281 1123353 1801019 1729273\n",
              "1 1618583 1326369 1792600 1714960 1146278 1282790 1565924\n",
              "2 1590043 1516758 1171686 1262342 1647032 1706707 1850394\n",
              "3 1555554 1179331 1150089 1775787 1273834 1387428 1377341\n",
              "4 1539322 1539603 1872519 1462137 1683127 1204344 1198791\n",
              "5 1901394 1648755 1940943 1729177 1510119 1701650 1846238\n",
              "6 1504455 1282142 1881814 1673668 1994022 1204029 1853858"
            ]
          },
          "metadata": {}
        }
      ]
    }
  ]
}