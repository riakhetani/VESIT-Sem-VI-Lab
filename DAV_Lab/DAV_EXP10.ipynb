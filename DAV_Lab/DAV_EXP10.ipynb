{
  "nbformat": 4,
  "nbformat_minor": 0,
  "metadata": {
    "colab": {
      "provenance": []
    },
    "kernelspec": {
      "name": "python3",
      "display_name": "Python 3"
    },
    "language_info": {
      "name": "python"
    }
  },
  "cells": [
    {
      "cell_type": "markdown",
      "source": [
        "## Data Analytics Visualization Experiment 10\n",
        "---\n",
        "**RIA KHETANI**\n",
        "\n",
        "**D11AD_34**\n",
        "\n",
        "**AIM**: Getting introduced to data analytics libraries in Python and R.\n",
        "\n",
        "**OBJECTIVE**: Explore various data analytics Libraries in R and Python.\n",
        "\n",
        "---\n",
        "**Colab Link**: [DAV_EXP_10](https://colab.research.google.com/drive/1dByYKKZ4EsIku651uOpMxkAyfadF4C9N?usp=sharing)\n",
        "\n",
        "**Tasks to be performed**: Event Handling using D3.js\n",
        "\n",
        "---\n",
        "\n"
      ],
      "metadata": {
        "id": "ak5ThBdL2oS_"
      }
    },
    {
      "cell_type": "code",
      "execution_count": 1,
      "metadata": {
        "colab": {
          "base_uri": "https://localhost:8080/",
          "height": 281
        },
        "id": "ACIi9jhh2FGk",
        "outputId": "fef75d6e-ed86-4ea4-801f-e4e9be79d8d2"
      },
      "outputs": [
        {
          "output_type": "display_data",
          "data": {
            "text/plain": [
              "<IPython.core.display.HTML object>"
            ],
            "text/html": [
              "<!DOCTYPE html>\n",
              "<html lang=\"en\">\n",
              "<head>\n",
              "<meta charset=\"UTF-8\">\n",
              "<meta name=\"viewport\" content=\"width=device-width, initial-scale=1.0\">\n",
              "<title>D3.js Event Handling</title>\n",
              "<script src=\"https://d3js.org/d3.v7.min.js\"></script>\n",
              "<style>\n",
              "  svg {\n",
              "    border: 1px solid white;\n",
              "  }\n",
              "</style>\n",
              "</head>\n",
              "<body>\n",
              "\n",
              "<h1>D3.js Event Handling Example</h1>\n",
              "\n",
              "<!-- SVG container for visualization -->\n",
              "<svg width=\"400\" height=\"200\"></svg>\n",
              "\n",
              "<script>\n",
              "  // Create an SVG element\n",
              "  var svg = d3.select(\"svg\");\n",
              "\n",
              "  // Create a circle\n",
              "  var circle = svg.append(\"circle\")\n",
              "    .attr(\"cx\", 100)\n",
              "    .attr(\"cy\", 100)\n",
              "    .attr(\"r\", 100)\n",
              "    .attr(\"fill\", \"red\");\n",
              "\n",
              "  // Define hover behavior\n",
              "  circle.on(\"mouseenter\", function() {\n",
              "    d3.select(this).attr(\"fill\", \"yellow\");\n",
              "  })\n",
              "  .on(\"mouseleave\", function() {\n",
              "    d3.select(this).attr(\"fill\", \"red\");\n",
              "  });\n",
              "</script>\n",
              "\n",
              "</body>\n",
              "</html>\n"
            ]
          },
          "metadata": {}
        }
      ],
      "source": [
        "%%html\n",
        "<!DOCTYPE html>\n",
        "<html lang=\"en\">\n",
        "<head>\n",
        "<meta charset=\"UTF-8\">\n",
        "<meta name=\"viewport\" content=\"width=device-width, initial-scale=1.0\">\n",
        "<title>D3.js Event Handling</title>\n",
        "<script src=\"https://d3js.org/d3.v7.min.js\"></script>\n",
        "<style>\n",
        "  svg {\n",
        "    border: 1px solid white;\n",
        "  }\n",
        "</style>\n",
        "</head>\n",
        "<body>\n",
        "\n",
        "<h1>D3.js Event Handling Example</h1>\n",
        "\n",
        "<!-- SVG container for visualization -->\n",
        "<svg width=\"400\" height=\"200\"></svg>\n",
        "\n",
        "<script>\n",
        "  // Create an SVG element\n",
        "  var svg = d3.select(\"svg\");\n",
        "\n",
        "  // Create a circle\n",
        "  var circle = svg.append(\"circle\")\n",
        "    .attr(\"cx\", 100)\n",
        "    .attr(\"cy\", 100)\n",
        "    .attr(\"r\", 100)\n",
        "    .attr(\"fill\", \"red\");\n",
        "\n",
        "  // Define hover behavior\n",
        "  circle.on(\"mouseenter\", function() {\n",
        "    d3.select(this).attr(\"fill\", \"yellow\");\n",
        "  })\n",
        "  .on(\"mouseleave\", function() {\n",
        "    d3.select(this).attr(\"fill\", \"red\");\n",
        "  });\n",
        "</script>\n",
        "\n",
        "</body>\n",
        "</html>\n"
      ]
    }
  ]
}